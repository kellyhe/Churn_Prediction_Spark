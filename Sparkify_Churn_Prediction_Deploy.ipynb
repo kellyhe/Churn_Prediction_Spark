{
 "cells": [
  {
   "cell_type": "markdown",
   "metadata": {},
   "source": [
    "# Sparkify Project Deplpy"
   ]
  },
  {
   "cell_type": "code",
   "execution_count": 4,
   "metadata": {
    "scrolled": true
   },
   "outputs": [
    {
     "data": {
      "application/vnd.jupyter.widget-view+json": {
       "model_id": "c08635d3071d445295f2fa843a5b7a37",
       "version_major": 2,
       "version_minor": 0
      },
      "text/plain": [
       "VBox()"
      ]
     },
     "metadata": {},
     "output_type": "display_data"
    },
    {
     "data": {
      "application/vnd.jupyter.widget-view+json": {
       "model_id": "",
       "version_major": 2,
       "version_minor": 0
      },
      "text/plain": [
       "FloatProgress(value=0.0, bar_style='info', description='Progress:', layout=Layout(height='25px', width='50%'),…"
      ]
     },
     "metadata": {},
     "output_type": "display_data"
    },
    {
     "name": "stdout",
     "output_type": "stream",
     "text": [
      "Collecting pandas\n",
      "  Using cached https://files.pythonhosted.org/packages/25/47/22fc373440e144e2111363adaa07abb09ec1f03fbc071b6d9fc0bbf65f68/pandas-1.1.3-cp37-cp37m-manylinux1_x86_64.whl\n",
      "Requirement already satisfied: numpy>=1.15.4 in /usr/local/lib64/python3.7/site-packages (from pandas)\n",
      "Requirement already satisfied: pytz>=2017.2 in /usr/local/lib/python3.7/site-packages (from pandas)\n",
      "Collecting python-dateutil>=2.7.3 (from pandas)\n",
      "  Using cached https://files.pythonhosted.org/packages/d4/70/d60450c3dd48ef87586924207ae8907090de0b306af2bce5d134d78615cb/python_dateutil-2.8.1-py2.py3-none-any.whl\n",
      "Requirement already satisfied: six>=1.5 in /usr/local/lib/python3.7/site-packages (from python-dateutil>=2.7.3->pandas)\n",
      "Installing collected packages: python-dateutil, pandas\n",
      "Successfully installed pandas-1.1.3 python-dateutil-2.8.1\n",
      "\n",
      "Collecting matplotlib\n",
      "  Using cached https://files.pythonhosted.org/packages/87/a6/8d7d06f6b69236a3c1818157875ceb1259ba0d9df4194f4fe138ffdc0f41/matplotlib-3.3.2-cp37-cp37m-manylinux1_x86_64.whl\n",
      "Collecting certifi>=2020.06.20 (from matplotlib)\n",
      "  Using cached https://files.pythonhosted.org/packages/5e/c4/6c4fe722df5343c33226f0b4e0bb042e4dc13483228b4718baf286f86d87/certifi-2020.6.20-py2.py3-none-any.whl\n",
      "Requirement already satisfied: numpy>=1.15 in /usr/local/lib64/python3.7/site-packages (from matplotlib)\n",
      "Requirement already satisfied: python-dateutil>=2.1 in /mnt/tmp/1602891629876-0/lib/python3.7/site-packages (from matplotlib)\n",
      "Collecting pyparsing!=2.0.4,!=2.1.2,!=2.1.6,>=2.0.3 (from matplotlib)\n",
      "  Using cached https://files.pythonhosted.org/packages/8a/bb/488841f56197b13700afd5658fc279a2025a39e22449b7cf29864669b15d/pyparsing-2.4.7-py2.py3-none-any.whl\n",
      "Collecting pillow>=6.2.0 (from matplotlib)\n",
      "  Using cached https://files.pythonhosted.org/packages/9f/b7/4b3304e5fd986e2ad8a0157adba88c01dcefc111deaf84a37175af5f5e43/Pillow-8.0.0-cp37-cp37m-manylinux1_x86_64.whl\n",
      "Collecting cycler>=0.10 (from matplotlib)\n",
      "  Using cached https://files.pythonhosted.org/packages/f7/d2/e07d3ebb2bd7af696440ce7e754c59dd546ffe1bbe732c8ab68b9c834e61/cycler-0.10.0-py2.py3-none-any.whl\n",
      "Collecting kiwisolver>=1.0.1 (from matplotlib)\n",
      "  Using cached https://files.pythonhosted.org/packages/31/b9/6202dcae729998a0ade30e80ac00f616542ef445b088ec970d407dfd41c0/kiwisolver-1.2.0-cp37-cp37m-manylinux1_x86_64.whl\n",
      "Requirement already satisfied: six>=1.5 in /usr/local/lib/python3.7/site-packages (from python-dateutil>=2.1->matplotlib)\n",
      "Installing collected packages: certifi, pyparsing, pillow, cycler, kiwisolver, matplotlib\n",
      "Successfully installed certifi-2020.6.20 cycler-0.10.0 kiwisolver-1.2.0 matplotlib-3.3.2 pillow-8.0.0 pyparsing-2.4.7\n",
      "\n",
      "Collecting seaborn\n",
      "  Using cached https://files.pythonhosted.org/packages/bc/45/5118a05b0d61173e6eb12bc5804f0fbb6f196adb0a20e0b16efc2b8e98be/seaborn-0.11.0-py3-none-any.whl\n",
      "Requirement already satisfied: numpy>=1.15 in /usr/local/lib64/python3.7/site-packages (from seaborn)\n",
      "Collecting scipy>=1.0 (from seaborn)\n",
      "  Using cached https://files.pythonhosted.org/packages/65/f9/f7a7e5009711579c72da2725174825e5056741bf4001815d097eef1b2e17/scipy-1.5.2-cp37-cp37m-manylinux1_x86_64.whl\n",
      "Requirement already satisfied: matplotlib>=2.2 in /mnt/tmp/1602891629876-0/lib/python3.7/site-packages (from seaborn)\n",
      "Requirement already satisfied: pandas>=0.23 in /mnt/tmp/1602891629876-0/lib/python3.7/site-packages (from seaborn)\n",
      "Requirement already satisfied: certifi>=2020.06.20 in /mnt/tmp/1602891629876-0/lib/python3.7/site-packages (from matplotlib>=2.2->seaborn)\n",
      "Requirement already satisfied: python-dateutil>=2.1 in /mnt/tmp/1602891629876-0/lib/python3.7/site-packages (from matplotlib>=2.2->seaborn)\n",
      "Requirement already satisfied: pyparsing!=2.0.4,!=2.1.2,!=2.1.6,>=2.0.3 in /mnt/tmp/1602891629876-0/lib/python3.7/site-packages (from matplotlib>=2.2->seaborn)\n",
      "Requirement already satisfied: pillow>=6.2.0 in /mnt/tmp/1602891629876-0/lib/python3.7/site-packages (from matplotlib>=2.2->seaborn)\n",
      "Requirement already satisfied: cycler>=0.10 in /mnt/tmp/1602891629876-0/lib/python3.7/site-packages (from matplotlib>=2.2->seaborn)\n",
      "Requirement already satisfied: kiwisolver>=1.0.1 in /mnt/tmp/1602891629876-0/lib/python3.7/site-packages (from matplotlib>=2.2->seaborn)\n",
      "Requirement already satisfied: pytz>=2017.2 in /usr/local/lib/python3.7/site-packages (from pandas>=0.23->seaborn)\n",
      "Requirement already satisfied: six>=1.5 in /usr/local/lib/python3.7/site-packages (from python-dateutil>=2.1->matplotlib>=2.2->seaborn)\n",
      "Installing collected packages: scipy, seaborn\n",
      "Successfully installed scipy-1.5.2 seaborn-0.11.0"
     ]
    }
   ],
   "source": [
    "sc.install_pypi_package(\"pandas\")\n",
    "sc.install_pypi_package(\"matplotlib\")\n",
    "sc.install_pypi_package(\"seaborn\")\n",
    "sc.install_pypi_package(\"sklearn\")"
   ]
  },
  {
   "cell_type": "code",
   "execution_count": 111,
   "metadata": {},
   "outputs": [
    {
     "data": {
      "application/vnd.jupyter.widget-view+json": {
       "model_id": "fd388dd4aff44c339e97015b0df3a513",
       "version_major": 2,
       "version_minor": 0
      },
      "text/plain": [
       "VBox()"
      ]
     },
     "metadata": {},
     "output_type": "display_data"
    },
    {
     "data": {
      "application/vnd.jupyter.widget-view+json": {
       "model_id": "",
       "version_major": 2,
       "version_minor": 0
      },
      "text/plain": [
       "FloatProgress(value=0.0, bar_style='info', description='Progress:', layout=Layout(height='25px', width='50%'),…"
      ]
     },
     "metadata": {},
     "output_type": "display_data"
    }
   ],
   "source": [
    "# import libraries\n",
    "from pyspark.sql import SparkSession\n",
    "from pyspark.sql.functions import avg, col, concat, desc, asc, sum, min, max, split, udf,to_date \\\n",
    "                                , concat_ws,first,last,countDistinct,when,count,datediff,trim,split\\\n",
    "                                , element_at ,row_number,explode, array, lit, create_map\n",
    "from pyspark.sql.types import StringType,IntegerType,DoubleType\n",
    "from pyspark.sql import Window\n",
    "\n",
    "from pyspark.ml import Pipeline\n",
    "from pyspark.ml.classification import LogisticRegression, RandomForestClassifier, GBTClassifier,LinearSVC\n",
    "from pyspark.ml.evaluation import MulticlassClassificationEvaluator,BinaryClassificationEvaluator\n",
    "from pyspark.ml.feature import StandardScaler, StringIndexer,VectorAssembler\n",
    "from pyspark.ml.tuning import CrossValidator, ParamGridBuilder\n",
    "from pyspark.mllib.evaluation import MulticlassMetrics\n",
    "from pyspark.ml.stat import Correlation\n",
    "from itertools import chain\n",
    "import itertools\n",
    "\n",
    "import re\n",
    "\n",
    "import datetime\n",
    "import time\n",
    "\n",
    "import numpy as np\n",
    "import pandas as pd\n",
    "import matplotlib.pyplot as plt\n",
    "import seaborn as sns\n",
    "from sklearn.metrics import confusion_matrix\n",
    "import warnings; \n",
    "warnings.simplefilter('ignore')"
   ]
  },
  {
   "cell_type": "code",
   "execution_count": 139,
   "metadata": {},
   "outputs": [],
   "source": [
    "%matplotlib inline"
   ]
  },
  {
   "cell_type": "code",
   "execution_count": 49,
   "metadata": {},
   "outputs": [
    {
     "data": {
      "text/html": [
       "Current session configs: <tt>{'conf': {'spark.pyspark.python': 'python3', 'spark.pyspark.virtualenv.enabled': 'true', 'spark.pyspark.virtualenv.type': 'native', 'spark.pyspark.virtualenv.bin.path': '/usr/bin/virtualenv'}, 'kind': 'pyspark'}</tt><br>"
      ],
      "text/plain": [
       "<IPython.core.display.HTML object>"
      ]
     },
     "metadata": {},
     "output_type": "display_data"
    },
    {
     "data": {
      "text/html": [
       "<table>\n",
       "<tr><th>ID</th><th>YARN Application ID</th><th>Kind</th><th>State</th><th>Spark UI</th><th>Driver log</th><th>Current session?</th></tr><tr><td>1</td><td>application_1602882177189_0002</td><td>pyspark</td><td>idle</td><td><a target=\"_blank\" href=\"http://ip-172-31-45-24.us-east-2.compute.internal:20888/proxy/application_1602882177189_0002/\">Link</a></td><td><a target=\"_blank\" href=\"http://ip-172-31-33-246.us-east-2.compute.internal:8042/node/containerlogs/container_1602882177189_0002_01_000001/livy\">Link</a></td><td>✔</td></tr></table>"
      ],
      "text/plain": [
       "<IPython.core.display.HTML object>"
      ]
     },
     "metadata": {},
     "output_type": "display_data"
    }
   ],
   "source": [
    "%%info"
   ]
  },
  {
   "cell_type": "code",
   "execution_count": 7,
   "metadata": {
    "scrolled": true
   },
   "outputs": [
    {
     "data": {
      "application/vnd.jupyter.widget-view+json": {
       "model_id": "92865577a7b243d8b3322ca8873cd3cb",
       "version_major": 2,
       "version_minor": 0
      },
      "text/plain": [
       "VBox()"
      ]
     },
     "metadata": {},
     "output_type": "display_data"
    },
    {
     "data": {
      "application/vnd.jupyter.widget-view+json": {
       "model_id": "",
       "version_major": 2,
       "version_minor": 0
      },
      "text/plain": [
       "FloatProgress(value=0.0, bar_style='info', description='Progress:', layout=Layout(height='25px', width='50%'),…"
      ]
     },
     "metadata": {},
     "output_type": "display_data"
    },
    {
     "name": "stdout",
     "output_type": "stream",
     "text": [
      "Package                    Version  \n",
      "-------------------------- ---------\n",
      "beautifulsoup4             4.9.1    \n",
      "boto                       2.49.0   \n",
      "certifi                    2020.6.20\n",
      "click                      7.1.2    \n",
      "cycler                     0.10.0   \n",
      "jmespath                   0.10.0   \n",
      "joblib                     0.16.0   \n",
      "kiwisolver                 1.2.0    \n",
      "lxml                       4.5.2    \n",
      "matplotlib                 3.3.2    \n",
      "mysqlclient                1.4.2    \n",
      "nltk                       3.5      \n",
      "nose                       1.3.4    \n",
      "numpy                      1.16.5   \n",
      "pandas                     1.1.3    \n",
      "Pillow                     8.0.0    \n",
      "pip                        9.0.1    \n",
      "py-dateutil                2.2      \n",
      "pyparsing                  2.4.7    \n",
      "python-dateutil            2.8.1    \n",
      "python37-sagemaker-pyspark 1.4.0    \n",
      "pytz                       2020.1   \n",
      "PyYAML                     5.3.1    \n",
      "regex                      2020.7.14\n",
      "scipy                      1.5.2    \n",
      "seaborn                    0.11.0   \n",
      "setuptools                 28.8.0   \n",
      "six                        1.13.0   \n",
      "soupsieve                  1.9.5    \n",
      "tqdm                       4.48.2   \n",
      "wheel                      0.29.0   \n",
      "windmill                   1.6"
     ]
    }
   ],
   "source": [
    "sc.list_packages()"
   ]
  },
  {
   "cell_type": "code",
   "execution_count": 6,
   "metadata": {},
   "outputs": [
    {
     "data": {
      "application/vnd.jupyter.widget-view+json": {
       "model_id": "ee91871600b849588e8d7d42e81fa280",
       "version_major": 2,
       "version_minor": 0
      },
      "text/plain": [
       "VBox()"
      ]
     },
     "metadata": {},
     "output_type": "display_data"
    },
    {
     "data": {
      "application/vnd.jupyter.widget-view+json": {
       "model_id": "",
       "version_major": 2,
       "version_minor": 0
      },
      "text/plain": [
       "FloatProgress(value=0.0, bar_style='info', description='Progress:', layout=Layout(height='25px', width='50%'),…"
      ]
     },
     "metadata": {},
     "output_type": "display_data"
    }
   ],
   "source": [
    "# Create spark session\n",
    "spark = SparkSession \\\n",
    "    .builder \\\n",
    "    .appName(\"Sparkify\") \\\n",
    "    .getOrCreate()"
   ]
  },
  {
   "cell_type": "markdown",
   "metadata": {},
   "source": [
    "# Load and Clean Dataset"
   ]
  },
  {
   "cell_type": "code",
   "execution_count": 7,
   "metadata": {},
   "outputs": [
    {
     "data": {
      "application/vnd.jupyter.widget-view+json": {
       "model_id": "f4b535c28bae496fb512f697a74d6338",
       "version_major": 2,
       "version_minor": 0
      },
      "text/plain": [
       "VBox()"
      ]
     },
     "metadata": {},
     "output_type": "display_data"
    },
    {
     "data": {
      "application/vnd.jupyter.widget-view+json": {
       "model_id": "",
       "version_major": 2,
       "version_minor": 0
      },
      "text/plain": [
       "FloatProgress(value=0.0, bar_style='info', description='Progress:', layout=Layout(height='25px', width='50%'),…"
      ]
     },
     "metadata": {},
     "output_type": "display_data"
    }
   ],
   "source": [
    "# Read in full sparkify dataset\n",
    "event_data = \"s3n://udacity-dsnd/sparkify/sparkify_event_data.json\"\n",
    "df = spark.read.json(event_data)\n",
    "#df.head()"
   ]
  },
  {
   "cell_type": "code",
   "execution_count": 9,
   "metadata": {},
   "outputs": [
    {
     "data": {
      "application/vnd.jupyter.widget-view+json": {
       "model_id": "9d844767301943499a1e068595fd4f63",
       "version_major": 2,
       "version_minor": 0
      },
      "text/plain": [
       "VBox()"
      ]
     },
     "metadata": {},
     "output_type": "display_data"
    },
    {
     "data": {
      "application/vnd.jupyter.widget-view+json": {
       "model_id": "",
       "version_major": 2,
       "version_minor": 0
      },
      "text/plain": [
       "FloatProgress(value=0.0, bar_style='info', description='Progress:', layout=Layout(height='25px', width='50%'),…"
      ]
     },
     "metadata": {},
     "output_type": "display_data"
    },
    {
     "name": "stdout",
     "output_type": "stream",
     "text": [
      "root\n",
      " |-- artist: string (nullable = true)\n",
      " |-- auth: string (nullable = true)\n",
      " |-- firstName: string (nullable = true)\n",
      " |-- gender: string (nullable = true)\n",
      " |-- itemInSession: long (nullable = true)\n",
      " |-- lastName: string (nullable = true)\n",
      " |-- length: double (nullable = true)\n",
      " |-- level: string (nullable = true)\n",
      " |-- location: string (nullable = true)\n",
      " |-- method: string (nullable = true)\n",
      " |-- page: string (nullable = true)\n",
      " |-- registration: long (nullable = true)\n",
      " |-- sessionId: long (nullable = true)\n",
      " |-- song: string (nullable = true)\n",
      " |-- status: long (nullable = true)\n",
      " |-- ts: long (nullable = true)\n",
      " |-- userAgent: string (nullable = true)\n",
      " |-- userId: string (nullable = true)"
     ]
    }
   ],
   "source": [
    "#print schema\n",
    "df.printSchema()"
   ]
  },
  {
   "cell_type": "code",
   "execution_count": 11,
   "metadata": {},
   "outputs": [
    {
     "data": {
      "application/vnd.jupyter.widget-view+json": {
       "model_id": "c2b313290a234f769680930f39c6d3cc",
       "version_major": 2,
       "version_minor": 0
      },
      "text/plain": [
       "VBox()"
      ]
     },
     "metadata": {},
     "output_type": "display_data"
    },
    {
     "data": {
      "application/vnd.jupyter.widget-view+json": {
       "model_id": "",
       "version_major": 2,
       "version_minor": 0
      },
      "text/plain": [
       "FloatProgress(value=0.0, bar_style='info', description='Progress:', layout=Layout(height='25px', width='50%'),…"
      ]
     },
     "metadata": {},
     "output_type": "display_data"
    },
    {
     "name": "stdout",
     "output_type": "stream",
     "text": [
      "26259199"
     ]
    }
   ],
   "source": [
    "#data size\n",
    "df.count()"
   ]
  },
  {
   "cell_type": "code",
   "execution_count": 15,
   "metadata": {},
   "outputs": [
    {
     "data": {
      "application/vnd.jupyter.widget-view+json": {
       "model_id": "a9412eb5d8e0429ebc3a12ff708f8be2",
       "version_major": 2,
       "version_minor": 0
      },
      "text/plain": [
       "VBox()"
      ]
     },
     "metadata": {},
     "output_type": "display_data"
    },
    {
     "data": {
      "application/vnd.jupyter.widget-view+json": {
       "model_id": "",
       "version_major": 2,
       "version_minor": 0
      },
      "text/plain": [
       "FloatProgress(value=0.0, bar_style='info', description='Progress:', layout=Layout(height='25px', width='50%'),…"
      ]
     },
     "metadata": {},
     "output_type": "display_data"
    },
    {
     "name": "stdout",
     "output_type": "stream",
     "text": [
      "+----------------------+\n",
      "|count(DISTINCT userId)|\n",
      "+----------------------+\n",
      "|                 22278|\n",
      "+----------------------+"
     ]
    }
   ],
   "source": [
    "#Count distinct users\n",
    "df.agg(countDistinct(\"userId\")).show()"
   ]
  },
  {
   "cell_type": "code",
   "execution_count": 12,
   "metadata": {},
   "outputs": [
    {
     "data": {
      "application/vnd.jupyter.widget-view+json": {
       "model_id": "1f3702355f64428daf6bb8ddd5a7c554",
       "version_major": 2,
       "version_minor": 0
      },
      "text/plain": [
       "VBox()"
      ]
     },
     "metadata": {},
     "output_type": "display_data"
    },
    {
     "data": {
      "application/vnd.jupyter.widget-view+json": {
       "model_id": "",
       "version_major": 2,
       "version_minor": 0
      },
      "text/plain": [
       "FloatProgress(value=0.0, bar_style='info', description='Progress:', layout=Layout(height='25px', width='50%'),…"
      ]
     },
     "metadata": {},
     "output_type": "display_data"
    },
    {
     "name": "stdout",
     "output_type": "stream",
     "text": [
      "[Row(artist=5408927, auth=0, firstName=778479, gender=778479, itemInSession=0, lastName=778479, length=5408927, level=0, location=778479, method=0, page=0, registration=778479, sessionId=0, song=5408927, status=0, ts=0, userAgent=778479, userId=0)]"
     ]
    }
   ],
   "source": [
    "#check missing values for each column\n",
    "df.select(*(sum(col(c).isNull().cast(\"int\")).alias(c) for c in df.columns)).collect()"
   ]
  },
  {
   "cell_type": "code",
   "execution_count": 16,
   "metadata": {},
   "outputs": [
    {
     "data": {
      "application/vnd.jupyter.widget-view+json": {
       "model_id": "f6dada2adb4242948aa647eeb0c1c31d",
       "version_major": 2,
       "version_minor": 0
      },
      "text/plain": [
       "VBox()"
      ]
     },
     "metadata": {},
     "output_type": "display_data"
    },
    {
     "data": {
      "application/vnd.jupyter.widget-view+json": {
       "model_id": "",
       "version_major": 2,
       "version_minor": 0
      },
      "text/plain": [
       "FloatProgress(value=0.0, bar_style='info', description='Progress:', layout=Layout(height='25px', width='50%'),…"
      ]
     },
     "metadata": {},
     "output_type": "display_data"
    },
    {
     "name": "stdout",
     "output_type": "stream",
     "text": [
      "0"
     ]
    }
   ],
   "source": [
    "#explore users with missing user id\n",
    "df.filter(df.userId == \"\").count()"
   ]
  },
  {
   "cell_type": "code",
   "execution_count": 22,
   "metadata": {},
   "outputs": [
    {
     "data": {
      "application/vnd.jupyter.widget-view+json": {
       "model_id": "f5200cd7dfc54085966ca8bc80775c77",
       "version_major": 2,
       "version_minor": 0
      },
      "text/plain": [
       "VBox()"
      ]
     },
     "metadata": {},
     "output_type": "display_data"
    },
    {
     "data": {
      "application/vnd.jupyter.widget-view+json": {
       "model_id": "",
       "version_major": 2,
       "version_minor": 0
      },
      "text/plain": [
       "FloatProgress(value=0.0, bar_style='info', description='Progress:', layout=Layout(height='25px', width='50%'),…"
      ]
     },
     "metadata": {},
     "output_type": "display_data"
    },
    {
     "name": "stdout",
     "output_type": "stream",
     "text": [
      "778479"
     ]
    }
   ],
   "source": [
    "#explore users who are either logged out or guests (778479/26259199 = 3% records)\n",
    "df.filter((df.auth == \"Logged Out\")|(df.auth == \"Guest\")).count()"
   ]
  },
  {
   "cell_type": "code",
   "execution_count": 23,
   "metadata": {},
   "outputs": [
    {
     "data": {
      "application/vnd.jupyter.widget-view+json": {
       "model_id": "bdd1217f894b485a854f78d0e39f7a7f",
       "version_major": 2,
       "version_minor": 0
      },
      "text/plain": [
       "VBox()"
      ]
     },
     "metadata": {},
     "output_type": "display_data"
    },
    {
     "data": {
      "application/vnd.jupyter.widget-view+json": {
       "model_id": "",
       "version_major": 2,
       "version_minor": 0
      },
      "text/plain": [
       "FloatProgress(value=0.0, bar_style='info', description='Progress:', layout=Layout(height='25px', width='50%'),…"
      ]
     },
     "metadata": {},
     "output_type": "display_data"
    },
    {
     "name": "stdout",
     "output_type": "stream",
     "text": [
      "+----------------------+\n",
      "|count(DISTINCT userId)|\n",
      "+----------------------+\n",
      "|                     1|\n",
      "+----------------------+"
     ]
    }
   ],
   "source": [
    "#explore users who are either logged out or guests (they share the same userID)\n",
    "df.filter((df.auth == \"Logged Out\")|(df.auth == \"Guest\")).agg(countDistinct(\"userId\")).show()"
   ]
  },
  {
   "cell_type": "code",
   "execution_count": 14,
   "metadata": {},
   "outputs": [
    {
     "data": {
      "application/vnd.jupyter.widget-view+json": {
       "model_id": "8f8c555788c447deaae57d1f10cbd995",
       "version_major": 2,
       "version_minor": 0
      },
      "text/plain": [
       "VBox()"
      ]
     },
     "metadata": {},
     "output_type": "display_data"
    },
    {
     "data": {
      "application/vnd.jupyter.widget-view+json": {
       "model_id": "",
       "version_major": 2,
       "version_minor": 0
      },
      "text/plain": [
       "FloatProgress(value=0.0, bar_style='info', description='Progress:', layout=Layout(height='25px', width='50%'),…"
      ]
     },
     "metadata": {},
     "output_type": "display_data"
    },
    {
     "name": "stdout",
     "output_type": "stream",
     "text": [
      "0"
     ]
    }
   ],
   "source": [
    "#explore users with missing sessionId\n",
    "df.filter(df.sessionId == \"\").count()"
   ]
  },
  {
   "cell_type": "code",
   "execution_count": 8,
   "metadata": {},
   "outputs": [
    {
     "data": {
      "application/vnd.jupyter.widget-view+json": {
       "model_id": "a62ce303afab4a788e335e1bbe19fb4c",
       "version_major": 2,
       "version_minor": 0
      },
      "text/plain": [
       "VBox()"
      ]
     },
     "metadata": {},
     "output_type": "display_data"
    },
    {
     "data": {
      "application/vnd.jupyter.widget-view+json": {
       "model_id": "",
       "version_major": 2,
       "version_minor": 0
      },
      "text/plain": [
       "FloatProgress(value=0.0, bar_style='info', description='Progress:', layout=Layout(height='25px', width='50%'),…"
      ]
     },
     "metadata": {},
     "output_type": "display_data"
    }
   ],
   "source": [
    "#exclude logged out users or Guests\n",
    "df_valid = df.filter((df.auth != \"Logged Out\")&(df.auth != \"Guest\"))"
   ]
  },
  {
   "cell_type": "markdown",
   "metadata": {},
   "source": [
    "# Feature Engineering"
   ]
  },
  {
   "cell_type": "markdown",
   "metadata": {},
   "source": [
    "### Define Churn"
   ]
  },
  {
   "cell_type": "code",
   "execution_count": 9,
   "metadata": {},
   "outputs": [
    {
     "data": {
      "application/vnd.jupyter.widget-view+json": {
       "model_id": "f7bcd1b271f249a7a0248e84521bfae3",
       "version_major": 2,
       "version_minor": 0
      },
      "text/plain": [
       "VBox()"
      ]
     },
     "metadata": {},
     "output_type": "display_data"
    },
    {
     "data": {
      "application/vnd.jupyter.widget-view+json": {
       "model_id": "",
       "version_major": 2,
       "version_minor": 0
      },
      "text/plain": [
       "FloatProgress(value=0.0, bar_style='info', description='Progress:', layout=Layout(height='25px', width='50%'),…"
      ]
     },
     "metadata": {},
     "output_type": "display_data"
    }
   ],
   "source": [
    "#flag Cancellation Confirmation event\n",
    "flag_cancel_event = udf(lambda x: 1 if x == \"Cancellation Confirmation\" else 0, IntegerType())\n",
    "df_valid = df_valid.withColumn(\"Cancellation\", flag_cancel_event(\"page\"))\n",
    "df_valid.filter(df_valid.page =='Cancellation Confirmation').head()\n",
    "#define Churn users\n",
    "windowval = Window.partitionBy(\"userId\")\n",
    "df_valid = df_valid.withColumn(\"Churn\", max(\"Cancellation\").over(windowval))"
   ]
  },
  {
   "cell_type": "markdown",
   "metadata": {},
   "source": [
    "### Extract Features"
   ]
  },
  {
   "cell_type": "code",
   "execution_count": 10,
   "metadata": {},
   "outputs": [
    {
     "data": {
      "application/vnd.jupyter.widget-view+json": {
       "model_id": "0a25ceaf40a345d7a8652465a9508064",
       "version_major": 2,
       "version_minor": 0
      },
      "text/plain": [
       "VBox()"
      ]
     },
     "metadata": {},
     "output_type": "display_data"
    },
    {
     "data": {
      "application/vnd.jupyter.widget-view+json": {
       "model_id": "",
       "version_major": 2,
       "version_minor": 0
      },
      "text/plain": [
       "FloatProgress(value=0.0, bar_style='info', description='Progress:', layout=Layout(height='25px', width='50%'),…"
      ]
     },
     "metadata": {},
     "output_type": "display_data"
    }
   ],
   "source": [
    "#add date time\n",
    "get_year = udf(lambda x: datetime.datetime.fromtimestamp(x / 1000.0).year)\n",
    "get_month = udf(lambda x: datetime.datetime.fromtimestamp(x / 1000.0).month)\n",
    "get_day = udf(lambda x: datetime.datetime.fromtimestamp(x / 1000.0).day)\n",
    "get_hour = udf(lambda x: datetime.datetime.fromtimestamp(x / 1000.0).hour)\n",
    "df_valid = df_valid.withColumn(\"year\",get_year(\"ts\"))\n",
    "df_valid = df_valid.withColumn(\"month\",get_month(\"ts\"))\n",
    "df_valid = df_valid.withColumn(\"day\",get_day(\"ts\"))\n",
    "df_valid = df_valid.withColumn(\"hour\",get_hour(\"ts\"))\n",
    "df_valid = df_valid.withColumn(\"date\", to_date(concat_ws(\"-\", \"year\", \"month\", \"day\")))"
   ]
  },
  {
   "cell_type": "code",
   "execution_count": 34,
   "metadata": {},
   "outputs": [
    {
     "data": {
      "application/vnd.jupyter.widget-view+json": {
       "model_id": "656c5e922e41448996cbae7fdb0b9e01",
       "version_major": 2,
       "version_minor": 0
      },
      "text/plain": [
       "VBox()"
      ]
     },
     "metadata": {},
     "output_type": "display_data"
    },
    {
     "data": {
      "application/vnd.jupyter.widget-view+json": {
       "model_id": "",
       "version_major": 2,
       "version_minor": 0
      },
      "text/plain": [
       "FloatProgress(value=0.0, bar_style='info', description='Progress:', layout=Layout(height='25px', width='50%'),…"
      ]
     },
     "metadata": {},
     "output_type": "display_data"
    },
    {
     "name": "stdout",
     "output_type": "stream",
     "text": [
      "+----------+----------+\n",
      "| max(date)| min(date)|\n",
      "+----------+----------+\n",
      "|2018-12-01|2018-10-01|\n",
      "+----------+----------+"
     ]
    }
   ],
   "source": [
    "#check last data and first date \n",
    "df_valid.agg(max(col('date')),min(col('date'))).show()"
   ]
  },
  {
   "cell_type": "code",
   "execution_count": 13,
   "metadata": {},
   "outputs": [
    {
     "data": {
      "application/vnd.jupyter.widget-view+json": {
       "model_id": "ef2841bdb37d47659ba98dc901cef58d",
       "version_major": 2,
       "version_minor": 0
      },
      "text/plain": [
       "VBox()"
      ]
     },
     "metadata": {},
     "output_type": "display_data"
    },
    {
     "data": {
      "application/vnd.jupyter.widget-view+json": {
       "model_id": "",
       "version_major": 2,
       "version_minor": 0
      },
      "text/plain": [
       "FloatProgress(value=0.0, bar_style='info', description='Progress:', layout=Layout(height='25px', width='50%'),…"
      ]
     },
     "metadata": {},
     "output_type": "display_data"
    }
   ],
   "source": [
    "# main state (highest frequency)\n",
    "df_valid = df_valid.withColumn(\"state\", trim(element_at(split(col(\"location\"), \",\"),-1)))\n",
    "state_cnt = df_valid.groupBy(\"userId\", \"state\").count()\n",
    "\n",
    "w = Window().partitionBy(\"userId\").orderBy(col(\"count\").desc())\n",
    "\n",
    "main_state = (state_cnt\n",
    "  .withColumn(\"rn\", row_number().over(w))\n",
    "  .where(col(\"rn\") == 1)\n",
    "  .select(\"userId\", col(\"state\").alias('main_state')))"
   ]
  },
  {
   "cell_type": "code",
   "execution_count": 14,
   "metadata": {},
   "outputs": [
    {
     "data": {
      "application/vnd.jupyter.widget-view+json": {
       "model_id": "09c1f043875241068caa47832866947f",
       "version_major": 2,
       "version_minor": 0
      },
      "text/plain": [
       "VBox()"
      ]
     },
     "metadata": {},
     "output_type": "display_data"
    },
    {
     "data": {
      "application/vnd.jupyter.widget-view+json": {
       "model_id": "",
       "version_major": 2,
       "version_minor": 0
      },
      "text/plain": [
       "FloatProgress(value=0.0, bar_style='info', description='Progress:', layout=Layout(height='25px', width='50%'),…"
      ]
     },
     "metadata": {},
     "output_type": "display_data"
    }
   ],
   "source": [
    "# Adding main state feature to df_valid\n",
    "df_valid = df_valid.join(main_state, on = 'userId')"
   ]
  },
  {
   "cell_type": "code",
   "execution_count": 11,
   "metadata": {},
   "outputs": [
    {
     "data": {
      "application/vnd.jupyter.widget-view+json": {
       "model_id": "a1803911922c4e75b5424e525965ce01",
       "version_major": 2,
       "version_minor": 0
      },
      "text/plain": [
       "VBox()"
      ]
     },
     "metadata": {},
     "output_type": "display_data"
    },
    {
     "data": {
      "application/vnd.jupyter.widget-view+json": {
       "model_id": "",
       "version_major": 2,
       "version_minor": 0
      },
      "text/plain": [
       "FloatProgress(value=0.0, bar_style='info', description='Progress:', layout=Layout(height='25px', width='50%'),…"
      ]
     },
     "metadata": {},
     "output_type": "display_data"
    }
   ],
   "source": [
    "# Extract potential features \n",
    "df_user = df_valid.groupby('userId').agg(\n",
    "     # target\n",
    "     first(col('Churn')).alias('label'),\n",
    "     # gender\n",
    "     first(when(col('gender') == \"F\", 1).otherwise(0)).alias('female'),\n",
    "     # #main state ratio\n",
    "     #((sum(when(col('state') == col('main_state'), 1).otherwise(0)))/count(col('state'))).alias(\"mstate_ratio\"),\n",
    "     # distinct locations\n",
    "     #countDistinct(col('location')).alias('ulocation_ct'),\n",
    "     # distinct page actions\n",
    "     countDistinct(col('page')).alias('upage_ct'),\n",
    "     # page action ratio\n",
    "    ((sum(when(col('page') == \"Thumbs Up\", 1).otherwise(0)))/count(col('page'))).alias(\"tbup_ratio\"),\n",
    "    ((sum(when(col('page') == \"Thumbs Down\", 1).otherwise(0)))/count(col('page'))).alias(\"tbdw_ratio\"),\n",
    "    ((sum(when(col('page') == \"Add Friend\", 1).otherwise(0)))/count(col('page'))).alias(\"addfriend_ratio\"),   \n",
    "    ((sum(when(col('page') == \"Roll Advert\", 1).otherwise(0)))/count(col('page'))).alias(\"ad_ratio\"),\n",
    "    ((sum(when(col('page') == \"Upgrade\", 1).otherwise(0)))/count(col('page'))).alias(\"up_ratio\"),\n",
    "    ((sum(when(col('page') == \"Help\", 1).otherwise(0)))/count(col('page'))).alias(\"help_ratio\"),\n",
    "    ((sum(when(col('page') == \"Error\", 1).otherwise(0)))/count(col('page'))).alias(\"error_ratio\"),\n",
    "     # enroll days\n",
    "     (datediff(max(col('date')),min(col('date'))) +1).alias(\"enroll_days\"),\n",
    "     # active days\n",
    "     countDistinct(col('date')).alias('active_days'),\n",
    "     # active ratio\n",
    "     (countDistinct(col('date'))/(datediff(max(col('date')),min(col('date'))) +1)).alias('active_ratio'),\n",
    "     # distinct artists per active day \n",
    "     (countDistinct(col('artist'))/countDistinct(col('date'))).alias('uartist_pact'),\n",
    "     # distinct songs per active day\n",
    "     (countDistinct(col('song'))/countDistinct(col('date'))).alias('usong_pact'),\n",
    "     # avg songs per active day \n",
    "     (sum(when(col('page') == \"NextSong\",1).otherwise(0))/countDistinct(col('date'))).alias(\"tsong_pact\"),\n",
    "     # avg items per session\n",
    "     (count(col('itemInSession'))/countDistinct(col('sessionId'))).alias(\"item_pses\"))"
   ]
  },
  {
   "cell_type": "code",
   "execution_count": 31,
   "metadata": {},
   "outputs": [
    {
     "data": {
      "application/vnd.jupyter.widget-view+json": {
       "model_id": "bb9ebe41d0dc48e1a7ffd3de42280435",
       "version_major": 2,
       "version_minor": 0
      },
      "text/plain": [
       "VBox()"
      ]
     },
     "metadata": {},
     "output_type": "display_data"
    },
    {
     "data": {
      "application/vnd.jupyter.widget-view+json": {
       "model_id": "",
       "version_major": 2,
       "version_minor": 0
      },
      "text/plain": [
       "FloatProgress(value=0.0, bar_style='info', description='Progress:', layout=Layout(height='25px', width='50%'),…"
      ]
     },
     "metadata": {},
     "output_type": "display_data"
    },
    {
     "name": "stdout",
     "output_type": "stream",
     "text": [
      "Row(userId='1076191', label=1, female=0, mstate_ratio=1.0, ulocation_ct=1, upage_ct=9, tbup_ratio=0.0625, tbdw_ratio=0.015625, addfriend_ratio=0.0, ad_ratio=0.078125, up_ratio=0.0, help_ratio=0.0, error_ratio=0.0, enroll_days=9, active_days=3, active_ratio=0.3333333333333333, uartist_pact=15.666666666666666, usong_pact=15.666666666666666, tsong_pact=15.666666666666666, item_pses=21.333333333333332)"
     ]
    }
   ],
   "source": [
    "#check user example\n",
    "df_user.head()"
   ]
  },
  {
   "cell_type": "markdown",
   "metadata": {},
   "source": [
    "### Explore Features"
   ]
  },
  {
   "cell_type": "code",
   "execution_count": 32,
   "metadata": {},
   "outputs": [
    {
     "data": {
      "application/vnd.jupyter.widget-view+json": {
       "model_id": "78d3cb5bca5a47ffac39d1637f8c47e8",
       "version_major": 2,
       "version_minor": 0
      },
      "text/plain": [
       "VBox()"
      ]
     },
     "metadata": {},
     "output_type": "display_data"
    },
    {
     "data": {
      "application/vnd.jupyter.widget-view+json": {
       "model_id": "",
       "version_major": 2,
       "version_minor": 0
      },
      "text/plain": [
       "FloatProgress(value=0.0, bar_style='info', description='Progress:', layout=Layout(height='25px', width='50%'),…"
      ]
     },
     "metadata": {},
     "output_type": "display_data"
    },
    {
     "name": "stdout",
     "output_type": "stream",
     "text": [
      "root\n",
      " |-- userId: string (nullable = true)\n",
      " |-- label: integer (nullable = true)\n",
      " |-- female: integer (nullable = true)\n",
      " |-- mstate_ratio: double (nullable = true)\n",
      " |-- ulocation_ct: long (nullable = false)\n",
      " |-- upage_ct: long (nullable = false)\n",
      " |-- tbup_ratio: double (nullable = true)\n",
      " |-- tbdw_ratio: double (nullable = true)\n",
      " |-- addfriend_ratio: double (nullable = true)\n",
      " |-- ad_ratio: double (nullable = true)\n",
      " |-- up_ratio: double (nullable = true)\n",
      " |-- help_ratio: double (nullable = true)\n",
      " |-- error_ratio: double (nullable = true)\n",
      " |-- enroll_days: integer (nullable = true)\n",
      " |-- active_days: long (nullable = false)\n",
      " |-- active_ratio: double (nullable = true)\n",
      " |-- uartist_pact: double (nullable = true)\n",
      " |-- usong_pact: double (nullable = true)\n",
      " |-- tsong_pact: double (nullable = true)\n",
      " |-- item_pses: double (nullable = true)"
     ]
    }
   ],
   "source": [
    "#print schema\n",
    "df_user.printSchema()"
   ]
  },
  {
   "cell_type": "markdown",
   "metadata": {},
   "source": [
    "##### #target measure plots "
   ]
  },
  {
   "cell_type": "code",
   "execution_count": 16,
   "metadata": {},
   "outputs": [
    {
     "data": {
      "application/vnd.jupyter.widget-view+json": {
       "model_id": "fa38e596864d41c8998056577f23a1ce",
       "version_major": 2,
       "version_minor": 0
      },
      "text/plain": [
       "VBox()"
      ]
     },
     "metadata": {},
     "output_type": "display_data"
    },
    {
     "data": {
      "application/vnd.jupyter.widget-view+json": {
       "model_id": "",
       "version_major": 2,
       "version_minor": 0
      },
      "text/plain": [
       "FloatProgress(value=0.0, bar_style='info', description='Progress:', layout=Layout(height='25px', width='50%'),…"
      ]
     },
     "metadata": {},
     "output_type": "display_data"
    },
    {
     "name": "stdout",
     "output_type": "stream",
     "text": [
      "  label  count   Percent\n",
      "0     1   5003  0.224581\n",
      "1     0  17274  0.775419"
     ]
    }
   ],
   "source": [
    "#prepare target data\n",
    "target_df = df_user.groupby('label').count()\n",
    "target_pdf = target_df.toPandas()\n",
    "target_pdf['label'] = target_pdf['label'].astype('category')\n",
    "target_pdf['Percent'] = target_pdf['count']/target_pdf['count'].sum() \n",
    "target_pdf"
   ]
  },
  {
   "cell_type": "code",
   "execution_count": 29,
   "metadata": {},
   "outputs": [
    {
     "data": {
      "application/vnd.jupyter.widget-view+json": {
       "model_id": "0b0ebab4650a4376874eef7d0383dc32",
       "version_major": 2,
       "version_minor": 0
      },
      "text/plain": [
       "VBox()"
      ]
     },
     "metadata": {},
     "output_type": "display_data"
    },
    {
     "data": {
      "application/vnd.jupyter.widget-view+json": {
       "model_id": "",
       "version_major": 2,
       "version_minor": 0
      },
      "text/plain": [
       "FloatProgress(value=0.0, bar_style='info', description='Progress:', layout=Layout(height='25px', width='50%'),…"
      ]
     },
     "metadata": {},
     "output_type": "display_data"
    },
    {
     "name": "stdout",
     "output_type": "stream",
     "text": [
      "Text(-0.05769230769230771, 0.23458140683215875, '22.0%')\n",
      "Text(0.9423076923076923, 0.7854185931678412, '78.0%')"
     ]
    }
   ],
   "source": [
    "#target plot\n",
    "churn_pt = target_pdf.plot(kind ='bar',x ='label',y='Percent',legend = None,color ='navy', \\\n",
    "            title = 'Churn Distribution (Full 12GB Dataset)',xlabel = '', ylabel ='Percent', figsize = (8,5));\n",
    "for p in churn_pt.patches:\n",
    "    txt = str(p.get_height().round(2)* 100) + '%'\n",
    "    txt_x = p.get_x() + p.get_width() / 2.6\n",
    "    txt_y = p.get_height()+0.01\n",
    "    churn_pt.text(txt_x,txt_y,txt)\n",
    "#plt.savefig('s3://aws-emr-resources-631922983932-us-east-2/e-C01H7UNHA5J04BSQL7GOJGG6X/churn.png')"
   ]
  },
  {
   "cell_type": "code",
   "execution_count": 30,
   "metadata": {},
   "outputs": [
    {
     "data": {
      "application/vnd.jupyter.widget-view+json": {
       "model_id": "",
       "version_major": 2,
       "version_minor": 0
      },
      "text/plain": [
       "FloatProgress(value=0.0, bar_style='info', description='Progress:', layout=Layout(height='25px', width='50%'),…"
      ]
     },
     "metadata": {},
     "output_type": "display_data"
    },
    {
     "data": {
      "image/png": "[encoded data removed]",
      "text/plain": [
       "<IPython.core.display.Image object>"
      ]
     },
     "metadata": {},
     "output_type": "display_data"
    }
   ],
   "source": [
    "%matplot plt"
   ]
  },
  {
   "cell_type": "code",
   "execution_count": null,
   "metadata": {},
   "outputs": [],
   "source": [
    "#img_data = io.BytesIO()\n",
    "#plt.savefig(img_data, format='png')\n",
    "#img_data.seek(0)"
   ]
  },
  {
   "cell_type": "markdown",
   "metadata": {},
   "source": [
    "#####  fields with only one distinct value"
   ]
  },
  {
   "cell_type": "code",
   "execution_count": 35,
   "metadata": {},
   "outputs": [
    {
     "data": {
      "application/vnd.jupyter.widget-view+json": {
       "model_id": "377250977e0641eb87f4f2ddd1794226",
       "version_major": 2,
       "version_minor": 0
      },
      "text/plain": [
       "VBox()"
      ]
     },
     "metadata": {},
     "output_type": "display_data"
    },
    {
     "data": {
      "application/vnd.jupyter.widget-view+json": {
       "model_id": "",
       "version_major": 2,
       "version_minor": 0
      },
      "text/plain": [
       "FloatProgress(value=0.0, bar_style='info', description='Progress:', layout=Layout(height='25px', width='50%'),…"
      ]
     },
     "metadata": {},
     "output_type": "display_data"
    },
    {
     "name": "stdout",
     "output_type": "stream",
     "text": [
      "+------+-----+------+------------+------------+--------+----------+----------+---------------+--------+--------+----------+-----------+-----------+-----------+------------+------------+----------+----------+---------+\n",
      "|userId|label|female|mstate_ratio|ulocation_ct|upage_ct|tbup_ratio|tbdw_ratio|addfriend_ratio|ad_ratio|up_ratio|help_ratio|error_ratio|enroll_days|active_days|active_ratio|uartist_pact|usong_pact|tsong_pact|item_pses|\n",
      "+------+-----+------+------------+------------+--------+----------+----------+---------------+--------+--------+----------+-----------+-----------+-----------+------------+------------+----------+----------+---------+\n",
      "| 22277|    2|     2|           1|           1|      19|     11880|      9465|          10383|   12897|    7078|      7913|       5304|         61|         61|         958|        8394|      9220|      9563|    10456|\n",
      "+------+-----+------+------------+------------+--------+----------+----------+---------------+--------+--------+----------+-----------+-----------+-----------+------------+------------+----------+----------+---------+"
     ]
    }
   ],
   "source": [
    "# countDistinct value for each column\n",
    "expr = [countDistinct(c).alias(c) for c in df_user.columns]\n",
    "\n",
    "# apply those functions\n",
    "countdf =  df_user.select(*expr)\n",
    "countdf.show()"
   ]
  },
  {
   "cell_type": "code",
   "execution_count": 37,
   "metadata": {},
   "outputs": [
    {
     "data": {
      "application/vnd.jupyter.widget-view+json": {
       "model_id": "3c0eb09bb3ef49beb775c60d157d42bc",
       "version_major": 2,
       "version_minor": 0
      },
      "text/plain": [
       "VBox()"
      ]
     },
     "metadata": {},
     "output_type": "display_data"
    },
    {
     "data": {
      "application/vnd.jupyter.widget-view+json": {
       "model_id": "",
       "version_major": 2,
       "version_minor": 0
      },
      "text/plain": [
       "FloatProgress(value=0.0, bar_style='info', description='Progress:', layout=Layout(height='25px', width='50%'),…"
      ]
     },
     "metadata": {},
     "output_type": "display_data"
    },
    {
     "name": "stdout",
     "output_type": "stream",
     "text": [
      "['mstate_ratio', 'ulocation_ct']"
     ]
    }
   ],
   "source": [
    "# extract the columns which have just one value\n",
    "one_value_to_drop = [k for k,v in countdf.collect()[0].asDict().items() if v == 1]\n",
    "one_value_to_drop"
   ]
  },
  {
   "cell_type": "markdown",
   "metadata": {},
   "source": [
    "##### fields with high correlation"
   ]
  },
  {
   "cell_type": "code",
   "execution_count": 38,
   "metadata": {},
   "outputs": [
    {
     "data": {
      "application/vnd.jupyter.widget-view+json": {
       "model_id": "6defa67b141d4270a5465370e8da49d7",
       "version_major": 2,
       "version_minor": 0
      },
      "text/plain": [
       "VBox()"
      ]
     },
     "metadata": {},
     "output_type": "display_data"
    },
    {
     "data": {
      "application/vnd.jupyter.widget-view+json": {
       "model_id": "",
       "version_major": 2,
       "version_minor": 0
      },
      "text/plain": [
       "FloatProgress(value=0.0, bar_style='info', description='Progress:', layout=Layout(height='25px', width='50%'),…"
      ]
     },
     "metadata": {},
     "output_type": "display_data"
    },
    {
     "name": "stdout",
     "output_type": "stream",
     "text": [
      "['error_ratio', 'usong_pact', 'upage_ct', 'addfriend_ratio', 'active_days', 'enroll_days', 'item_pses', 'tbdw_ratio', 'up_ratio', 'ad_ratio', 'active_ratio', 'uartist_pact', 'tsong_pact', 'label', 'help_ratio', 'tbup_ratio']"
     ]
    }
   ],
   "source": [
    "#numeric variables\n",
    "num_vector = list(set(df_user.columns)-set(['userId','female'])-set(one_value_to_drop))\n",
    "num_vector"
   ]
  },
  {
   "cell_type": "code",
   "execution_count": 39,
   "metadata": {},
   "outputs": [
    {
     "data": {
      "application/vnd.jupyter.widget-view+json": {
       "model_id": "7bb9c55962784d5c8afe7be188d0249f",
       "version_major": 2,
       "version_minor": 0
      },
      "text/plain": [
       "VBox()"
      ]
     },
     "metadata": {},
     "output_type": "display_data"
    },
    {
     "data": {
      "application/vnd.jupyter.widget-view+json": {
       "model_id": "",
       "version_major": 2,
       "version_minor": 0
      },
      "text/plain": [
       "FloatProgress(value=0.0, bar_style='info', description='Progress:', layout=Layout(height='25px', width='50%'),…"
      ]
     },
     "metadata": {},
     "output_type": "display_data"
    }
   ],
   "source": [
    "# convert to vector column first\n",
    "vector_col = \"corr_features\"\n",
    "assembler = VectorAssembler(inputCols=df_user.select(num_vector).columns, outputCol=vector_col)\n",
    "df_vector = assembler.transform(df_user.select(num_vector)).select(vector_col)\n",
    "\n",
    "# get correlation matrix\n",
    "matrix = Correlation.corr(df_vector, vector_col)"
   ]
  },
  {
   "cell_type": "code",
   "execution_count": 40,
   "metadata": {},
   "outputs": [
    {
     "data": {
      "application/vnd.jupyter.widget-view+json": {
       "model_id": "22caeff1d4544080be18646207398c23",
       "version_major": 2,
       "version_minor": 0
      },
      "text/plain": [
       "VBox()"
      ]
     },
     "metadata": {},
     "output_type": "display_data"
    },
    {
     "data": {
      "application/vnd.jupyter.widget-view+json": {
       "model_id": "",
       "version_major": 2,
       "version_minor": 0
      },
      "text/plain": [
       "FloatProgress(value=0.0, bar_style='info', description='Progress:', layout=Layout(height='25px', width='50%'),…"
      ]
     },
     "metadata": {},
     "output_type": "display_data"
    }
   ],
   "source": [
    "#matrix head name\n",
    "head = df_user.select(num_vector).columns"
   ]
  },
  {
   "cell_type": "code",
   "execution_count": 41,
   "metadata": {},
   "outputs": [
    {
     "data": {
      "application/vnd.jupyter.widget-view+json": {
       "model_id": "ed99795b65f34c3b9951c2619ca2c0d9",
       "version_major": 2,
       "version_minor": 0
      },
      "text/plain": [
       "VBox()"
      ]
     },
     "metadata": {},
     "output_type": "display_data"
    },
    {
     "data": {
      "application/vnd.jupyter.widget-view+json": {
       "model_id": "",
       "version_major": 2,
       "version_minor": 0
      },
      "text/plain": [
       "FloatProgress(value=0.0, bar_style='info', description='Progress:', layout=Layout(height='25px', width='50%'),…"
      ]
     },
     "metadata": {},
     "output_type": "display_data"
    },
    {
     "name": "stdout",
     "output_type": "stream",
     "text": [
      "                 error_ratio  usong_pact  ...  help_ratio  tbup_ratio\n",
      "error_ratio         1.000000   -0.017840  ...   -0.014701   -0.040267\n",
      "usong_pact         -0.017840    1.000000  ...   -0.010930    0.101100\n",
      "upage_ct            0.040470    0.534562  ...    0.066610    0.075630\n",
      "addfriend_ratio    -0.013183   -0.014889  ...    0.028843   -0.069015\n",
      "active_days        -0.013901    0.304876  ...    0.007492    0.118906\n",
      "enroll_days        -0.017652    0.080075  ...    0.030309    0.130688\n",
      "item_pses          -0.014321    0.904392  ...   -0.007082    0.089550\n",
      "tbdw_ratio         -0.006346   -0.082510  ...   -0.004458   -0.100777\n",
      "up_ratio           -0.009756   -0.302070  ...   -0.003553   -0.072787\n",
      "ad_ratio            0.006918   -0.526481  ...   -0.010654   -0.280387\n",
      "active_ratio        0.009217    0.223136  ...   -0.039895   -0.039150\n",
      "uartist_pact       -0.016764    0.972071  ...   -0.012758    0.088603\n",
      "tsong_pact         -0.018012    0.992287  ...   -0.010030    0.104174\n",
      "label              -0.001909    0.124695  ...   -0.015775   -0.131076\n",
      "help_ratio         -0.014701   -0.010930  ...    1.000000   -0.027032\n",
      "tbup_ratio         -0.040267    0.101100  ...   -0.027032    1.000000\n",
      "\n",
      "[16 rows x 16 columns]"
     ]
    }
   ],
   "source": [
    "#correlation matrix\n",
    "corr = pd.DataFrame(matrix.collect()[0][\"pearson({})\".format(vector_col)].values.reshape(16,16))\n",
    "corr.columns = head\n",
    "corr.index = head\n",
    "corr"
   ]
  },
  {
   "cell_type": "code",
   "execution_count": 42,
   "metadata": {},
   "outputs": [
    {
     "data": {
      "application/vnd.jupyter.widget-view+json": {
       "model_id": "296b592d61984b2aa38e17830a6585fc",
       "version_major": 2,
       "version_minor": 0
      },
      "text/plain": [
       "VBox()"
      ]
     },
     "metadata": {},
     "output_type": "display_data"
    },
    {
     "data": {
      "application/vnd.jupyter.widget-view+json": {
       "model_id": "",
       "version_major": 2,
       "version_minor": 0
      },
      "text/plain": [
       "FloatProgress(value=0.0, bar_style='info', description='Progress:', layout=Layout(height='25px', width='50%'),…"
      ]
     },
     "metadata": {},
     "output_type": "display_data"
    },
    {
     "name": "stdout",
     "output_type": "stream",
     "text": [
      "['uartist_pact', 'tsong_pact']"
     ]
    }
   ],
   "source": [
    "# Creating ABS correlation matrix\n",
    "corr_abs = corr.abs()\n",
    "# Selecting upper triangle of correlation matrix\n",
    "upper_tri = corr_abs.where(np.triu(np.ones(corr_abs.shape),k=1).astype(np.bool))\n",
    "# Finding feature columns with correlation greater than 0.95\n",
    "high_cor_to_drop = [column for column in upper_tri.columns if any(upper_tri[column] > 0.95)]\n",
    "high_cor_to_drop"
   ]
  },
  {
   "cell_type": "markdown",
   "metadata": {},
   "source": [
    "##### drop fields from two lists above"
   ]
  },
  {
   "cell_type": "code",
   "execution_count": 43,
   "metadata": {},
   "outputs": [
    {
     "data": {
      "application/vnd.jupyter.widget-view+json": {
       "model_id": "6f49d95650334f62aa8299174bf95ee2",
       "version_major": 2,
       "version_minor": 0
      },
      "text/plain": [
       "VBox()"
      ]
     },
     "metadata": {},
     "output_type": "display_data"
    },
    {
     "data": {
      "application/vnd.jupyter.widget-view+json": {
       "model_id": "",
       "version_major": 2,
       "version_minor": 0
      },
      "text/plain": [
       "FloatProgress(value=0.0, bar_style='info', description='Progress:', layout=Layout(height='25px', width='50%'),…"
      ]
     },
     "metadata": {},
     "output_type": "display_data"
    },
    {
     "name": "stdout",
     "output_type": "stream",
     "text": [
      "['mstate_ratio', 'ulocation_ct', 'uartist_pact', 'tsong_pact']"
     ]
    }
   ],
   "source": [
    "# transfer the drop list to spark data frame\n",
    "drop_list = one_value_to_drop + high_cor_to_drop\n",
    "drop_list "
   ]
  },
  {
   "cell_type": "code",
   "execution_count": 12,
   "metadata": {},
   "outputs": [
    {
     "data": {
      "application/vnd.jupyter.widget-view+json": {
       "model_id": "d6a674e9638044c7ba1809bcf9c7c516",
       "version_major": 2,
       "version_minor": 0
      },
      "text/plain": [
       "VBox()"
      ]
     },
     "metadata": {},
     "output_type": "display_data"
    },
    {
     "data": {
      "application/vnd.jupyter.widget-view+json": {
       "model_id": "",
       "version_major": 2,
       "version_minor": 0
      },
      "text/plain": [
       "FloatProgress(value=0.0, bar_style='info', description='Progress:', layout=Layout(height='25px', width='50%'),…"
      ]
     },
     "metadata": {},
     "output_type": "display_data"
    }
   ],
   "source": [
    "#drop_list = ['uartist_pact', 'tsong_pact']"
   ]
  },
  {
   "cell_type": "code",
   "execution_count": 13,
   "metadata": {},
   "outputs": [
    {
     "data": {
      "application/vnd.jupyter.widget-view+json": {
       "model_id": "430e6741ad3344318ca7dff7e4db51fb",
       "version_major": 2,
       "version_minor": 0
      },
      "text/plain": [
       "VBox()"
      ]
     },
     "metadata": {},
     "output_type": "display_data"
    },
    {
     "data": {
      "application/vnd.jupyter.widget-view+json": {
       "model_id": "",
       "version_major": 2,
       "version_minor": 0
      },
      "text/plain": [
       "FloatProgress(value=0.0, bar_style='info', description='Progress:', layout=Layout(height='25px', width='50%'),…"
      ]
     },
     "metadata": {},
     "output_type": "display_data"
    }
   ],
   "source": [
    "#drop fields from drop list\n",
    "df_user_clean = df_user.drop(*drop_list)"
   ]
  },
  {
   "cell_type": "code",
   "execution_count": 16,
   "metadata": {},
   "outputs": [
    {
     "data": {
      "application/vnd.jupyter.widget-view+json": {
       "model_id": "f41195706546486898109053bf44d872",
       "version_major": 2,
       "version_minor": 0
      },
      "text/plain": [
       "VBox()"
      ]
     },
     "metadata": {},
     "output_type": "display_data"
    },
    {
     "data": {
      "application/vnd.jupyter.widget-view+json": {
       "model_id": "",
       "version_major": 2,
       "version_minor": 0
      },
      "text/plain": [
       "FloatProgress(value=0.0, bar_style='info', description='Progress:', layout=Layout(height='25px', width='50%'),…"
      ]
     },
     "metadata": {},
     "output_type": "display_data"
    },
    {
     "name": "stdout",
     "output_type": "stream",
     "text": [
      "['userId', 'label', 'female', 'upage_ct', 'tbup_ratio', 'tbdw_ratio', 'addfriend_ratio', 'ad_ratio', 'up_ratio', 'help_ratio', 'error_ratio', 'enroll_days', 'active_days', 'active_ratio', 'usong_pact', 'item_pses']"
     ]
    }
   ],
   "source": [
    "#check final data frame\n",
    "df_user_clean.columns"
   ]
  },
  {
   "cell_type": "markdown",
   "metadata": {},
   "source": [
    "# Modelling and Evaluation"
   ]
  },
  {
   "cell_type": "markdown",
   "metadata": {},
   "source": [
    "### Step 1. Split the full dataset into train (cross-validation) and test sets. "
   ]
  },
  {
   "cell_type": "code",
   "execution_count": 14,
   "metadata": {},
   "outputs": [
    {
     "data": {
      "application/vnd.jupyter.widget-view+json": {
       "model_id": "2bb0a910f653461880cffa3ee5300074",
       "version_major": 2,
       "version_minor": 0
      },
      "text/plain": [
       "VBox()"
      ]
     },
     "metadata": {},
     "output_type": "display_data"
    },
    {
     "data": {
      "application/vnd.jupyter.widget-view+json": {
       "model_id": "",
       "version_major": 2,
       "version_minor": 0
      },
      "text/plain": [
       "FloatProgress(value=0.0, bar_style='info', description='Progress:', layout=Layout(height='25px', width='50%'),…"
      ]
     },
     "metadata": {},
     "output_type": "display_data"
    }
   ],
   "source": [
    "#split the data\n",
    "train, test = df_user_clean.randomSplit([0.7, 0.3], seed=42)"
   ]
  },
  {
   "cell_type": "code",
   "execution_count": 86,
   "metadata": {},
   "outputs": [
    {
     "data": {
      "application/vnd.jupyter.widget-view+json": {
       "model_id": "e62670f156844469ad83f2b94cb144fb",
       "version_major": 2,
       "version_minor": 0
      },
      "text/plain": [
       "VBox()"
      ]
     },
     "metadata": {},
     "output_type": "display_data"
    },
    {
     "data": {
      "application/vnd.jupyter.widget-view+json": {
       "model_id": "",
       "version_major": 2,
       "version_minor": 0
      },
      "text/plain": [
       "FloatProgress(value=0.0, bar_style='info', description='Progress:', layout=Layout(height='25px', width='50%'),…"
      ]
     },
     "metadata": {},
     "output_type": "display_data"
    },
    {
     "name": "stdout",
     "output_type": "stream",
     "text": [
      "+-----+-----+\n",
      "|label|count|\n",
      "+-----+-----+\n",
      "|    1| 3448|\n",
      "|    0|12128|\n",
      "+-----+-----+"
     ]
    }
   ],
   "source": [
    "#check churn distribution\n",
    "train.groupby('label').count().show()"
   ]
  },
  {
   "cell_type": "markdown",
   "metadata": {},
   "source": [
    "### Step 2. Build machine learning Pipeline."
   ]
  },
  {
   "cell_type": "code",
   "execution_count": 15,
   "metadata": {},
   "outputs": [
    {
     "data": {
      "application/vnd.jupyter.widget-view+json": {
       "model_id": "7e151f8c8eff4b4c94d4d78a19a191f6",
       "version_major": 2,
       "version_minor": 0
      },
      "text/plain": [
       "VBox()"
      ]
     },
     "metadata": {},
     "output_type": "display_data"
    },
    {
     "data": {
      "application/vnd.jupyter.widget-view+json": {
       "model_id": "",
       "version_major": 2,
       "version_minor": 0
      },
      "text/plain": [
       "FloatProgress(value=0.0, bar_style='info', description='Progress:', layout=Layout(height='25px', width='50%'),…"
      ]
     },
     "metadata": {},
     "output_type": "display_data"
    }
   ],
   "source": [
    "#create initial machine learning pielines\n",
    "def initial_model(numcols,catcols,classifier = LogisticRegression(maxIter=10),train = train, test = test):\n",
    "    '''\n",
    "    INPUT:\n",
    "    numcols - numerical columns\n",
    "    catcols - categorical columns (binary)\n",
    "    classifier - machine learning classifier model\n",
    "    train - train data\n",
    "    test - test data\n",
    "    \n",
    "    OUTPUT:\n",
    "    pipeline - machine learning pipeline\n",
    "    Model - fitted model based on train data\n",
    "    prediction - predictions on test data\n",
    "    run time in mins\n",
    "    '''\n",
    "    \n",
    "    start = time.time()\n",
    "    # Combining into VectorAssembler\n",
    "    num_assembler = VectorAssembler(inputCols = numcols, outputCol = \"num_vector\")\n",
    "    # Standardizing numerical features\n",
    "    scaler = StandardScaler(inputCol = \"num_vector\", outputCol = \"num_scaled\", withStd = True, withMean = True)\n",
    "\n",
    "    # Add binary feature (do not scale)\n",
    "    total_assembler = VectorAssembler(inputCols = catcols + [\"num_scaled\"], outputCol = \"features\")\n",
    "\n",
    "    # choose classifiers\n",
    "    ml =  classifier\n",
    "    pipeline = Pipeline(stages = [num_assembler, scaler, total_assembler, ml])\n",
    "    Model = pipeline.fit(train)\n",
    "    prediction = Model.transform(test) \n",
    "    \n",
    "    end = time.time()\n",
    "    \n",
    "    return pipeline,Model, prediction,round(round(end-start)/60,2)"
   ]
  },
  {
   "cell_type": "code",
   "execution_count": 16,
   "metadata": {},
   "outputs": [
    {
     "data": {
      "application/vnd.jupyter.widget-view+json": {
       "model_id": "4fcfa962798d417ea2429fda9b27ee09",
       "version_major": 2,
       "version_minor": 0
      },
      "text/plain": [
       "VBox()"
      ]
     },
     "metadata": {},
     "output_type": "display_data"
    },
    {
     "data": {
      "application/vnd.jupyter.widget-view+json": {
       "model_id": "",
       "version_major": 2,
       "version_minor": 0
      },
      "text/plain": [
       "FloatProgress(value=0.0, bar_style='info', description='Progress:', layout=Layout(height='25px', width='50%'),…"
      ]
     },
     "metadata": {},
     "output_type": "display_data"
    }
   ],
   "source": [
    "#evaluation function\n",
    "def evaluation(prediction):\n",
    "    '''\n",
    "    INPUT:\n",
    "    prediction - predictions on test data\n",
    "    \n",
    "    OUTPUT:\n",
    "    accuracy - metric: (TP + TN)/(TP + TN + FP + FN)\n",
    "    F1 score - metric: 2 * (Recall * Precision) / (Recall + Precision)\n",
    "    '''\n",
    "    \n",
    "    # Input: model prediction results\n",
    "    # Output: accuracy and F1 score\n",
    "       # accuracy: (TP + TN)/(TP + TN + FP + FN)\n",
    "       # precision: TP/(TP + FP)\n",
    "       # recall: TP/(TP + FN)\n",
    "       # f1 score: 2*(Recall * Precision) / (Recall + Precision)\n",
    "  \n",
    "    # Combine prediction and labels\n",
    "    predictionAndLabels = prediction.select(['prediction','label']) \\\n",
    "                      .withColumn(\"label\",col(\"label\").cast(DoubleType())).rdd\n",
    "\n",
    "    # Instantiate metrics object\n",
    "    metrics = MulticlassMetrics(predictionAndLabels)\n",
    "    \n",
    "    # Overall statistics\n",
    "    accuracy = metrics.accuracy\n",
    "    precision = metrics.precision(label =1.0)\n",
    "    recall = metrics.recall(label =1.0)\n",
    "    f1Score = metrics.fMeasure(label =1.0)\n",
    "    print(\"Summary Stats\")\n",
    "    print(\"Accuracy = %s\" % accuracy)\n",
    "    print(\"Precision = %s\" % precision)\n",
    "    print(\"Recall = %s\" % recall)\n",
    "    print(\"F1 Score = %s\" % f1Score)\n",
    "       \n",
    "    return round(accuracy,3),round(f1Score,3)"
   ]
  },
  {
   "cell_type": "code",
   "execution_count": 17,
   "metadata": {},
   "outputs": [
    {
     "data": {
      "application/vnd.jupyter.widget-view+json": {
       "model_id": "6e0be050a5c54c35ad68e35e8338bb9b",
       "version_major": 2,
       "version_minor": 0
      },
      "text/plain": [
       "VBox()"
      ]
     },
     "metadata": {},
     "output_type": "display_data"
    },
    {
     "data": {
      "application/vnd.jupyter.widget-view+json": {
       "model_id": "",
       "version_major": 2,
       "version_minor": 0
      },
      "text/plain": [
       "FloatProgress(value=0.0, bar_style='info', description='Progress:', layout=Layout(height='25px', width='50%'),…"
      ]
     },
     "metadata": {},
     "output_type": "display_data"
    },
    {
     "name": "stdout",
     "output_type": "stream",
     "text": [
      "['error_ratio', 'usong_pact', 'upage_ct', 'addfriend_ratio', 'item_pses', 'active_days', 'enroll_days', 'tbdw_ratio', 'up_ratio', 'ad_ratio', 'active_ratio', 'help_ratio', 'tbup_ratio']"
     ]
    }
   ],
   "source": [
    "#final features used in the model\n",
    "numcols = list(set(df_user_clean.columns)-set(['userId','female','label']))\n",
    "catcols = ['female']\n",
    "numcols"
   ]
  },
  {
   "cell_type": "markdown",
   "metadata": {},
   "source": [
    "#### Logistic Regression"
   ]
  },
  {
   "cell_type": "code",
   "execution_count": 55,
   "metadata": {},
   "outputs": [
    {
     "data": {
      "application/vnd.jupyter.widget-view+json": {
       "model_id": "60be42ae62a74249b1f86ac92abf8d7f",
       "version_major": 2,
       "version_minor": 0
      },
      "text/plain": [
       "VBox()"
      ]
     },
     "metadata": {},
     "output_type": "display_data"
    },
    {
     "data": {
      "application/vnd.jupyter.widget-view+json": {
       "model_id": "",
       "version_major": 2,
       "version_minor": 0
      },
      "text/plain": [
       "FloatProgress(value=0.0, bar_style='info', description='Progress:', layout=Layout(height='25px', width='50%'),…"
      ]
     },
     "metadata": {},
     "output_type": "display_data"
    },
    {
     "name": "stdout",
     "output_type": "stream",
     "text": [
      "Logistic Regression Run time (mins):  5.52\n",
      "Summary Stats\n",
      "Accuracy = 0.9195642441426652\n",
      "Precision = 0.8724340175953079\n",
      "Recall = 0.7652733118971061\n",
      "F1 Score = 0.8153477218225419"
     ]
    }
   ],
   "source": [
    "# Create logistic regression classifier\n",
    "pipeline_lr, model_lr, prediction_lr, time_lr = initial_model(numcols,catcols, \\\n",
    "                                                              LogisticRegression(maxIter=10),train, test)\n",
    "print('Logistic Regression Run time (mins): ',time_lr)\n",
    "acc_lr, f1_lr = evaluation(prediction_lr)"
   ]
  },
  {
   "cell_type": "markdown",
   "metadata": {},
   "source": [
    "#### Random Forest"
   ]
  },
  {
   "cell_type": "code",
   "execution_count": 58,
   "metadata": {},
   "outputs": [
    {
     "data": {
      "application/vnd.jupyter.widget-view+json": {
       "model_id": "aeac13d8ada548b19089c0815b22d693",
       "version_major": 2,
       "version_minor": 0
      },
      "text/plain": [
       "VBox()"
      ]
     },
     "metadata": {},
     "output_type": "display_data"
    },
    {
     "data": {
      "application/vnd.jupyter.widget-view+json": {
       "model_id": "",
       "version_major": 2,
       "version_minor": 0
      },
      "text/plain": [
       "FloatProgress(value=0.0, bar_style='info', description='Progress:', layout=Layout(height='25px', width='50%'),…"
      ]
     },
     "metadata": {},
     "output_type": "display_data"
    },
    {
     "name": "stdout",
     "output_type": "stream",
     "text": [
      "Random Forest Run time (mins):  17.15\n",
      "Summary Stats\n",
      "Accuracy = 0.9068795702134009\n",
      "Precision = 0.9251141552511416\n",
      "Recall = 0.6514469453376206\n",
      "F1 Score = 0.7645283018867925"
     ]
    }
   ],
   "source": [
    "# Create Random Forest classifier \n",
    "pipeline_rf, model_rf, prediction_rf, time_rf = initial_model(numcols,catcols, \\\n",
    "                                                              RandomForestClassifier(),train, test)\n",
    "print('Random Forest Run time (mins): ',time_rf)\n",
    "acc_rf, f1_rf = evaluation(prediction_rf)"
   ]
  },
  {
   "cell_type": "markdown",
   "metadata": {},
   "source": [
    "#### Gradient-boosted Tree"
   ]
  },
  {
   "cell_type": "code",
   "execution_count": 43,
   "metadata": {},
   "outputs": [
    {
     "data": {
      "application/vnd.jupyter.widget-view+json": {
       "model_id": "f7d0ae3d1360407ab29701630268ee17",
       "version_major": 2,
       "version_minor": 0
      },
      "text/plain": [
       "VBox()"
      ]
     },
     "metadata": {},
     "output_type": "display_data"
    },
    {
     "data": {
      "application/vnd.jupyter.widget-view+json": {
       "model_id": "",
       "version_major": 2,
       "version_minor": 0
      },
      "text/plain": [
       "FloatProgress(value=0.0, bar_style='info', description='Progress:', layout=Layout(height='25px', width='50%'),…"
      ]
     },
     "metadata": {},
     "output_type": "display_data"
    },
    {
     "name": "stdout",
     "output_type": "stream",
     "text": [
      "Gradient-boosted Tree Run time (mins):  6.02\n",
      "Summary Stats\n",
      "Accuracy = 0.933293538277869\n",
      "Precision = 0.9314641744548287\n",
      "Recall = 0.7691318327974277\n",
      "F1 Score = 0.8425501937301867"
     ]
    }
   ],
   "source": [
    "# Create Gradient-boosted tree classifier \n",
    "pipeline_gbt, model_gbt, prediction_gbt, time_gbt = initial_model(numcols,catcols, \\\n",
    "                                                                  GBTClassifier(maxIter=10),train, test)\n",
    "print('Gradient-boosted Tree Run time (mins): ',time_gbt)\n",
    "acc_gbt, f1_gbt = evaluation(prediction_gbt)"
   ]
  },
  {
   "cell_type": "markdown",
   "metadata": {},
   "source": [
    "#### Linear Support Vector Machine"
   ]
  },
  {
   "cell_type": "code",
   "execution_count": 64,
   "metadata": {},
   "outputs": [
    {
     "data": {
      "application/vnd.jupyter.widget-view+json": {
       "model_id": "a78caf6da8944bf39a9aec19125524c5",
       "version_major": 2,
       "version_minor": 0
      },
      "text/plain": [
       "VBox()"
      ]
     },
     "metadata": {},
     "output_type": "display_data"
    },
    {
     "data": {
      "application/vnd.jupyter.widget-view+json": {
       "model_id": "",
       "version_major": 2,
       "version_minor": 0
      },
      "text/plain": [
       "FloatProgress(value=0.0, bar_style='info', description='Progress:', layout=Layout(height='25px', width='50%'),…"
      ]
     },
     "metadata": {},
     "output_type": "display_data"
    },
    {
     "name": "stdout",
     "output_type": "stream",
     "text": [
      "Linear Support Vector Machine Run time (mins):  14.88\n",
      "Summary Stats\n",
      "Accuracy = 0.9185196239367258\n",
      "Precision = 0.8859984697781178\n",
      "Recall = 0.7446945337620579\n",
      "F1 Score = 0.8092243186582809"
     ]
    }
   ],
   "source": [
    "# Create Linear Support Vector Machine classifier \n",
    "pipeline_svc, model_svc, prediction_svc, time_svc = initial_model(numcols,catcols, \\\n",
    "                                                                  LinearSVC(maxIter=10),train, test)\n",
    "print('Linear Support Vector Machine Run time (mins): ',time_svc) \n",
    "acc_svc, f1_svc = evaluation(prediction_svc)"
   ]
  },
  {
   "cell_type": "markdown",
   "metadata": {},
   "source": [
    "#### Initial Models Performance Summary"
   ]
  },
  {
   "cell_type": "code",
   "execution_count": 65,
   "metadata": {},
   "outputs": [
    {
     "data": {
      "application/vnd.jupyter.widget-view+json": {
       "model_id": "0e769a128d054861a43bd6c4309579ff",
       "version_major": 2,
       "version_minor": 0
      },
      "text/plain": [
       "VBox()"
      ]
     },
     "metadata": {},
     "output_type": "display_data"
    },
    {
     "data": {
      "application/vnd.jupyter.widget-view+json": {
       "model_id": "",
       "version_major": 2,
       "version_minor": 0
      },
      "text/plain": [
       "FloatProgress(value=0.0, bar_style='info', description='Progress:', layout=Layout(height='25px', width='50%'),…"
      ]
     },
     "metadata": {},
     "output_type": "display_data"
    },
    {
     "name": "stdout",
     "output_type": "stream",
     "text": [
      "Performance Summary for initial models\n",
      "\n",
      "Logistic Regression model results: F1 Score 0.815, Accuracy is 0.92\n",
      "Random Forest model results: F1 Score 0.765, Accuracy is 0.907\n",
      "Gradient-boosted Tree model results: F1 Score 0.843, Accuracy is 0.933\n",
      "Linear Support Vector Machine results: F1 Score 0.809, Accuracy is 0.919"
     ]
    }
   ],
   "source": [
    "# Model Performance summary for initial models\n",
    "print('Performance Summary for initial models\\n')\n",
    "print(\"Logistic Regression model results: F1 Score {}, Accuracy is {}\".format(f1_lr, acc_lr))\n",
    "print(\"Random Forest model results: F1 Score {}, Accuracy is {}\".format(f1_rf, acc_rf))\n",
    "print(\"Gradient-boosted Tree model results: F1 Score {}, Accuracy is {}\".format(f1_gbt, acc_gbt))\n",
    "print(\"Linear Support Vector Machine results: F1 Score {}, Accuracy is {}\".format(f1_svc, acc_svc))"
   ]
  },
  {
   "cell_type": "markdown",
   "metadata": {},
   "source": [
    "### Step 3. Implement three methods to treat imbalanced class issue."
   ]
  },
  {
   "cell_type": "markdown",
   "metadata": {},
   "source": [
    "The data have imblanced classes issue. So I try 3 different methods below to handle this.\n",
    "1. Oversampling\n",
    "2. Undersampling\n",
    "3. Balancing class weights"
   ]
  },
  {
   "cell_type": "markdown",
   "metadata": {},
   "source": [
    "#### Stratified split dataframes "
   ]
  },
  {
   "cell_type": "code",
   "execution_count": 18,
   "metadata": {},
   "outputs": [
    {
     "data": {
      "application/vnd.jupyter.widget-view+json": {
       "model_id": "4a01bd7d45e14cb3a068ff2c102063cf",
       "version_major": 2,
       "version_minor": 0
      },
      "text/plain": [
       "VBox()"
      ]
     },
     "metadata": {},
     "output_type": "display_data"
    },
    {
     "data": {
      "application/vnd.jupyter.widget-view+json": {
       "model_id": "",
       "version_major": 2,
       "version_minor": 0
      },
      "text/plain": [
       "FloatProgress(value=0.0, bar_style='info', description='Progress:', layout=Layout(height='25px', width='50%'),…"
      ]
     },
     "metadata": {},
     "output_type": "display_data"
    }
   ],
   "source": [
    "# seperate minority/majority data\n",
    "label1_full = df_user_clean.filter(df_user_clean.label == 1)\n",
    "label0_full = df_user_clean.filter(df_user_clean.label == 0)"
   ]
  },
  {
   "cell_type": "code",
   "execution_count": null,
   "metadata": {},
   "outputs": [],
   "source": [
    "# calculate unbalanced ratio\n",
    "#ratio = label0_full.count()/ label1_full.count()\n",
    "#ratio"
   ]
  },
  {
   "cell_type": "code",
   "execution_count": 20,
   "metadata": {},
   "outputs": [
    {
     "data": {
      "application/vnd.jupyter.widget-view+json": {
       "model_id": "9bc9af68375e44fb9c3eb26cee10f134",
       "version_major": 2,
       "version_minor": 0
      },
      "text/plain": [
       "VBox()"
      ]
     },
     "metadata": {},
     "output_type": "display_data"
    },
    {
     "data": {
      "application/vnd.jupyter.widget-view+json": {
       "model_id": "",
       "version_major": 2,
       "version_minor": 0
      },
      "text/plain": [
       "FloatProgress(value=0.0, bar_style='info', description='Progress:', layout=Layout(height='25px', width='50%'),…"
      ]
     },
     "metadata": {},
     "output_type": "display_data"
    }
   ],
   "source": [
    "# split datasets into training and testing\n",
    "train0, test0 = label0_full.randomSplit([0.7,0.3], seed=42)\n",
    "train1, test1 = label1_full.randomSplit([0.7,0.3], seed=42)\n",
    "# stack datasets back together\n",
    "train_stra = train0.union(train1)\n",
    "test_stra = test0.union(test1)"
   ]
  },
  {
   "cell_type": "code",
   "execution_count": 21,
   "metadata": {},
   "outputs": [
    {
     "data": {
      "application/vnd.jupyter.widget-view+json": {
       "model_id": "655d319e7f5543b9ad68cc3524e7a9f1",
       "version_major": 2,
       "version_minor": 0
      },
      "text/plain": [
       "VBox()"
      ]
     },
     "metadata": {},
     "output_type": "display_data"
    },
    {
     "data": {
      "application/vnd.jupyter.widget-view+json": {
       "model_id": "",
       "version_major": 2,
       "version_minor": 0
      },
      "text/plain": [
       "FloatProgress(value=0.0, bar_style='info', description='Progress:', layout=Layout(height='25px', width='50%'),…"
      ]
     },
     "metadata": {},
     "output_type": "display_data"
    }
   ],
   "source": [
    "# seperate minority/majority on training data\n",
    "label1_df = train_stra.filter(train_stra.label == 1)\n",
    "label0_df = train_stra.filter(train_stra.label == 0)"
   ]
  },
  {
   "cell_type": "code",
   "execution_count": 22,
   "metadata": {},
   "outputs": [
    {
     "data": {
      "application/vnd.jupyter.widget-view+json": {
       "model_id": "d2a0193ef2a14931839b237129a220eb",
       "version_major": 2,
       "version_minor": 0
      },
      "text/plain": [
       "VBox()"
      ]
     },
     "metadata": {},
     "output_type": "display_data"
    },
    {
     "data": {
      "application/vnd.jupyter.widget-view+json": {
       "model_id": "",
       "version_major": 2,
       "version_minor": 0
      },
      "text/plain": [
       "FloatProgress(value=0.0, bar_style='info', description='Progress:', layout=Layout(height='25px', width='50%'),…"
      ]
     },
     "metadata": {},
     "output_type": "display_data"
    },
    {
     "name": "stdout",
     "output_type": "stream",
     "text": [
      "[Row(label=1, count=3495), Row(label=0, count=12068)]"
     ]
    }
   ],
   "source": [
    "#sample size before oversampling \n",
    "y = train_stra.groupby('label').count().collect()\n",
    "y"
   ]
  },
  {
   "cell_type": "code",
   "execution_count": 32,
   "metadata": {},
   "outputs": [
    {
     "data": {
      "application/vnd.jupyter.widget-view+json": {
       "model_id": "7028de8716e34be18aab63cca42bf516",
       "version_major": 2,
       "version_minor": 0
      },
      "text/plain": [
       "VBox()"
      ]
     },
     "metadata": {},
     "output_type": "display_data"
    },
    {
     "data": {
      "application/vnd.jupyter.widget-view+json": {
       "model_id": "",
       "version_major": 2,
       "version_minor": 0
      },
      "text/plain": [
       "FloatProgress(value=0.0, bar_style='info', description='Progress:', layout=Layout(height='25px', width='50%'),…"
      ]
     },
     "metadata": {},
     "output_type": "display_data"
    },
    {
     "name": "stdout",
     "output_type": "stream",
     "text": [
      "3.4529327610872675"
     ]
    }
   ],
   "source": [
    "# calculate unbalanced ratio\n",
    "ratio = y[1][1]/ y[0][1]\n",
    "ratio"
   ]
  },
  {
   "cell_type": "markdown",
   "metadata": {},
   "source": [
    "#### 1. Oversampling"
   ]
  },
  {
   "cell_type": "code",
   "execution_count": 33,
   "metadata": {},
   "outputs": [
    {
     "data": {
      "application/vnd.jupyter.widget-view+json": {
       "model_id": "a888087380b14fb795b756ea9ec80927",
       "version_major": 2,
       "version_minor": 0
      },
      "text/plain": [
       "VBox()"
      ]
     },
     "metadata": {},
     "output_type": "display_data"
    },
    {
     "data": {
      "application/vnd.jupyter.widget-view+json": {
       "model_id": "",
       "version_major": 2,
       "version_minor": 0
      },
      "text/plain": [
       "FloatProgress(value=0.0, bar_style='info', description='Progress:', layout=Layout(height='25px', width='50%'),…"
      ]
     },
     "metadata": {},
     "output_type": "display_data"
    }
   ],
   "source": [
    "# duplicate the minority data (label1)\n",
    "label1_os = label1_df.withColumn(\"dummy\", explode(array([lit(x) for x in range(int(ratio))]))).drop('dummy')\n",
    "# combine both oversampled minority label 1 and previous majority label 0\n",
    "combined_os_df = label0_df.unionAll(label1_os)"
   ]
  },
  {
   "cell_type": "code",
   "execution_count": 34,
   "metadata": {},
   "outputs": [
    {
     "data": {
      "application/vnd.jupyter.widget-view+json": {
       "model_id": "0e05286753e9499fb87115e4ce8b9484",
       "version_major": 2,
       "version_minor": 0
      },
      "text/plain": [
       "VBox()"
      ]
     },
     "metadata": {},
     "output_type": "display_data"
    },
    {
     "data": {
      "application/vnd.jupyter.widget-view+json": {
       "model_id": "",
       "version_major": 2,
       "version_minor": 0
      },
      "text/plain": [
       "FloatProgress(value=0.0, bar_style='info', description='Progress:', layout=Layout(height='25px', width='50%'),…"
      ]
     },
     "metadata": {},
     "output_type": "display_data"
    },
    {
     "name": "stdout",
     "output_type": "stream",
     "text": [
      "Logistic Regression Run time (mins):  5.97\n",
      "Summary Stats\n",
      "Accuracy = 0.9070598748882931\n",
      "Precision = 0.7517084282460137\n",
      "Recall = 0.8753315649867374\n",
      "F1 Score = 0.8088235294117646"
     ]
    }
   ],
   "source": [
    "# Create logistic regression classifier\n",
    "pipeline_lr_os, model_lr_os, prediction_lr_os, time_lr_os = initial_model(numcols,catcols, \\\n",
    "                                                              LogisticRegression(maxIter=10), \\\n",
    "                                                              combined_os_df, test_stra)\n",
    "print('Logistic Regression Run time (mins): ',time_lr_os)\n",
    "acc_lr_os, f1_lr_os = evaluation(prediction_lr_os)"
   ]
  },
  {
   "cell_type": "code",
   "execution_count": 35,
   "metadata": {},
   "outputs": [
    {
     "data": {
      "application/vnd.jupyter.widget-view+json": {
       "model_id": "2a1ac7606ec74f759c2b50bbcd8753cd",
       "version_major": 2,
       "version_minor": 0
      },
      "text/plain": [
       "VBox()"
      ]
     },
     "metadata": {},
     "output_type": "display_data"
    },
    {
     "data": {
      "application/vnd.jupyter.widget-view+json": {
       "model_id": "",
       "version_major": 2,
       "version_minor": 0
      },
      "text/plain": [
       "FloatProgress(value=0.0, bar_style='info', description='Progress:', layout=Layout(height='25px', width='50%'),…"
      ]
     },
     "metadata": {},
     "output_type": "display_data"
    },
    {
     "name": "stdout",
     "output_type": "stream",
     "text": [
      "Gradient-boosted tree Run time (mins):  6.37\n",
      "Summary Stats\n",
      "Accuracy = 0.9139112302651177\n",
      "Precision = 0.7600671140939598\n",
      "Recall = 0.9011936339522546\n",
      "F1 Score = 0.8246359223300971"
     ]
    }
   ],
   "source": [
    "# Create Gradient-boosted tree classifier\n",
    "pipeline_gbt_os, model_gbt_os, prediction_gbt_os, time_gbt_os = initial_model(numcols,catcols, \\\n",
    "                                                              GBTClassifier(maxIter=10), \\\n",
    "                                                              combined_os_df, test_stra)\n",
    "print('Gradient-boosted tree Run time (mins): ',time_gbt_os)\n",
    "acc_gbt_os, f1_gbt_os = evaluation(prediction_gbt_os)"
   ]
  },
  {
   "cell_type": "markdown",
   "metadata": {},
   "source": [
    "#### 2. Undersampling"
   ]
  },
  {
   "cell_type": "code",
   "execution_count": 37,
   "metadata": {},
   "outputs": [
    {
     "data": {
      "application/vnd.jupyter.widget-view+json": {
       "model_id": "753b4a84b43b44c5bd96d1adcf2f7994",
       "version_major": 2,
       "version_minor": 0
      },
      "text/plain": [
       "VBox()"
      ]
     },
     "metadata": {},
     "output_type": "display_data"
    },
    {
     "data": {
      "application/vnd.jupyter.widget-view+json": {
       "model_id": "",
       "version_major": 2,
       "version_minor": 0
      },
      "text/plain": [
       "FloatProgress(value=0.0, bar_style='info', description='Progress:', layout=Layout(height='25px', width='50%'),…"
      ]
     },
     "metadata": {},
     "output_type": "display_data"
    }
   ],
   "source": [
    "#random delete some records from majority label 0\n",
    "label0_us  = label0_df.sample(False, 1/ratio)\n",
    "# combine both undersampled majority label 0 and previous minority label 1\n",
    "combined_us_df = label1_df.unionAll(label0_us)"
   ]
  },
  {
   "cell_type": "code",
   "execution_count": 31,
   "metadata": {},
   "outputs": [
    {
     "data": {
      "application/vnd.jupyter.widget-view+json": {
       "model_id": "bfb49c8a11c24696addc85932d6ddaf7",
       "version_major": 2,
       "version_minor": 0
      },
      "text/plain": [
       "VBox()"
      ]
     },
     "metadata": {},
     "output_type": "display_data"
    },
    {
     "data": {
      "application/vnd.jupyter.widget-view+json": {
       "model_id": "",
       "version_major": 2,
       "version_minor": 0
      },
      "text/plain": [
       "FloatProgress(value=0.0, bar_style='info', description='Progress:', layout=Layout(height='25px', width='50%'),…"
      ]
     },
     "metadata": {},
     "output_type": "display_data"
    },
    {
     "name": "stdout",
     "output_type": "stream",
     "text": [
      "+-----+-----+\n",
      "|label|count|\n",
      "+-----+-----+\n",
      "|    1| 3469|\n",
      "|    0| 3529|\n",
      "+-----+-----+"
     ]
    }
   ],
   "source": [
    "#sample size after undersampling \n",
    "combined_us_df.groupby('label').count().show()"
   ]
  },
  {
   "cell_type": "code",
   "execution_count": 34,
   "metadata": {},
   "outputs": [
    {
     "data": {
      "application/vnd.jupyter.widget-view+json": {
       "model_id": "558df4b7bd7b44119d2adff4e777f70f",
       "version_major": 2,
       "version_minor": 0
      },
      "text/plain": [
       "VBox()"
      ]
     },
     "metadata": {},
     "output_type": "display_data"
    },
    {
     "data": {
      "application/vnd.jupyter.widget-view+json": {
       "model_id": "",
       "version_major": 2,
       "version_minor": 0
      },
      "text/plain": [
       "FloatProgress(value=0.0, bar_style='info', description='Progress:', layout=Layout(height='25px', width='50%'),…"
      ]
     },
     "metadata": {},
     "output_type": "display_data"
    },
    {
     "name": "stdout",
     "output_type": "stream",
     "text": [
      "Logistic Regression Run time (mins):  15.77\n",
      "Summary Stats\n",
      "Accuracy = 0.8985701519213584\n",
      "Precision = 0.7250952640174197\n",
      "Recall = 0.883289124668435\n",
      "F1 Score = 0.7964125560538118"
     ]
    }
   ],
   "source": [
    "# Create logistic regression classifier\n",
    "pipeline_lr_us, model_lr_us, prediction_lr_us, time_lr_us = initial_model(numcols,catcols, \\\n",
    "                                                              LogisticRegression(maxIter=10), \\\n",
    "                                                              combined_us_df, test_stra)\n",
    "print('Logistic Regression Run time (mins): ',time_lr_us)\n",
    "acc_lr_us, f1_lr_us = evaluation(prediction_lr_us)"
   ]
  },
  {
   "cell_type": "code",
   "execution_count": 38,
   "metadata": {},
   "outputs": [
    {
     "data": {
      "application/vnd.jupyter.widget-view+json": {
       "model_id": "93e8d88b4e5344018f435fd13a1e872f",
       "version_major": 2,
       "version_minor": 0
      },
      "text/plain": [
       "VBox()"
      ]
     },
     "metadata": {},
     "output_type": "display_data"
    },
    {
     "data": {
      "application/vnd.jupyter.widget-view+json": {
       "model_id": "",
       "version_major": 2,
       "version_minor": 0
      },
      "text/plain": [
       "FloatProgress(value=0.0, bar_style='info', description='Progress:', layout=Layout(height='25px', width='50%'),…"
      ]
     },
     "metadata": {},
     "output_type": "display_data"
    },
    {
     "name": "stdout",
     "output_type": "stream",
     "text": [
      "Gradient-boosted tree Run time (mins):  7.1\n",
      "Summary Stats\n",
      "Accuracy = 0.9100387250521299\n",
      "Precision = 0.7475355969331873\n",
      "Recall = 0.9051724137931034\n",
      "F1 Score = 0.8188362327534494"
     ]
    }
   ],
   "source": [
    "# Create Gradient-boosted tree classifier\n",
    "pipeline_gbt_us, model_gbt_us, prediction_gbt_us, time_gbt_us = initial_model(numcols,catcols, \\\n",
    "                                                              GBTClassifier(maxIter=10), \\\n",
    "                                                              combined_us_df, test_stra)\n",
    "print('Gradient-boosted tree Run time (mins): ',time_gbt_us)\n",
    "acc_gbt_us, f1_gbt_us = evaluation(prediction_gbt_us)"
   ]
  },
  {
   "cell_type": "markdown",
   "metadata": {},
   "source": [
    "#### 3. Balancing class weights"
   ]
  },
  {
   "cell_type": "code",
   "execution_count": null,
   "metadata": {},
   "outputs": [],
   "source": [
    "#calculate class weights in pandas data frame\n",
    "# https://scikit-learn.org/stable/modules/generated/sklearn.linear_model.LogisticRegression.html\n",
    "# class weight: n_samples / (n_classes * np.bincount(y))."
   ]
  },
  {
   "cell_type": "code",
   "execution_count": 35,
   "metadata": {},
   "outputs": [
    {
     "data": {
      "application/vnd.jupyter.widget-view+json": {
       "model_id": "97218df7558942e8bfe7a5bb25616602",
       "version_major": 2,
       "version_minor": 0
      },
      "text/plain": [
       "VBox()"
      ]
     },
     "metadata": {},
     "output_type": "display_data"
    },
    {
     "data": {
      "application/vnd.jupyter.widget-view+json": {
       "model_id": "",
       "version_major": 2,
       "version_minor": 0
      },
      "text/plain": [
       "FloatProgress(value=0.0, bar_style='info', description='Progress:', layout=Layout(height='25px', width='50%'),…"
      ]
     },
     "metadata": {},
     "output_type": "display_data"
    },
    {
     "name": "stdout",
     "output_type": "stream",
     "text": [
      "{1: 2.2264663805436338, 0: 0.644804441498177}"
     ]
    }
   ],
   "source": [
    "#calculate class weights in spark data frame\n",
    "y = train_stra.groupby('label').count().collect()\n",
    "unique_y = [x[\"label\"] for x in y]\n",
    "total_y = train_stra.count()\n",
    "unique_y_count = len(unique_y)\n",
    "bin_count = [x[\"count\"] for x in y]\n",
    "\n",
    "class_weights_spark = {i: ii for i, ii in zip(unique_y, total_y / (unique_y_count * np.array(bin_count)))}\n",
    "print(class_weights_spark) "
   ]
  },
  {
   "cell_type": "code",
   "execution_count": 36,
   "metadata": {},
   "outputs": [
    {
     "data": {
      "application/vnd.jupyter.widget-view+json": {
       "model_id": "30df4034ab1a4e57a64e24c8f59dfe4f",
       "version_major": 2,
       "version_minor": 0
      },
      "text/plain": [
       "VBox()"
      ]
     },
     "metadata": {},
     "output_type": "display_data"
    },
    {
     "data": {
      "application/vnd.jupyter.widget-view+json": {
       "model_id": "",
       "version_major": 2,
       "version_minor": 0
      },
      "text/plain": [
       "FloatProgress(value=0.0, bar_style='info', description='Progress:', layout=Layout(height='25px', width='50%'),…"
      ]
     },
     "metadata": {},
     "output_type": "display_data"
    }
   ],
   "source": [
    "#create a mapping to apply a weight to each training instance.\n",
    "mapping_weight = create_map([lit(x) for x in chain(*class_weights_spark.items())])\n",
    "train_stra_weight = train_stra.withColumn(\"weight\", mapping_weight.getItem(col(\"label\")))"
   ]
  },
  {
   "cell_type": "code",
   "execution_count": 37,
   "metadata": {},
   "outputs": [
    {
     "data": {
      "application/vnd.jupyter.widget-view+json": {
       "model_id": "19e24a99e21d422a82c7b7d77cc702f3",
       "version_major": 2,
       "version_minor": 0
      },
      "text/plain": [
       "VBox()"
      ]
     },
     "metadata": {},
     "output_type": "display_data"
    },
    {
     "data": {
      "application/vnd.jupyter.widget-view+json": {
       "model_id": "",
       "version_major": 2,
       "version_minor": 0
      },
      "text/plain": [
       "FloatProgress(value=0.0, bar_style='info', description='Progress:', layout=Layout(height='25px', width='50%'),…"
      ]
     },
     "metadata": {},
     "output_type": "display_data"
    },
    {
     "name": "stdout",
     "output_type": "stream",
     "text": [
      "Logistic Regression Run time (mins):  9.15\n",
      "Summary Stats\n",
      "Accuracy = 0.8994638069705094\n",
      "Precision = 0.7279693486590039\n",
      "Recall = 0.8819628647214854\n",
      "F1 Score = 0.7976011994002998"
     ]
    }
   ],
   "source": [
    "# Create logistic regression classifier\n",
    "pipeline_lr_wc, model_lr_wc, prediction_lr_wc, time_lr_wc = initial_model(numcols,catcols, \\\n",
    "                                                              LogisticRegression(maxIter=10,weightCol=\"weight\"), \\\n",
    "                                                              train_stra_weight, test_stra)\n",
    "print('Logistic Regression Run time (mins): ',time_lr_wc)\n",
    "acc_lr_wc, f1_lr_wc = evaluation(prediction_lr_wc)"
   ]
  },
  {
   "cell_type": "markdown",
   "metadata": {},
   "source": [
    "#### Fixing Imbalanced Classes Performance Summary"
   ]
  },
  {
   "cell_type": "code",
   "execution_count": null,
   "metadata": {},
   "outputs": [],
   "source": [
    "# Model Performance summary for fixing imbalanced classes\n",
    "print('Performance Summary for Fixing Imbalanced Classes\\n')\n",
    "print('Logistic Regression model')\n",
    "print(\"Initial Logistic Regression model results: F1 Score {}, Accuracy is {}\".format(f1_lr, acc_lr))\n",
    "print(\"1. Oversampling: F1 Score {}, Accuracy is {}\".format(f1_lr_os, acc_lr_os))\n",
    "print(\"2. Undersampling: F1 Score {}, Accuracy is {}\".format(f1_lr_us, acc_lr_us))\n",
    "print(\"3. Balancing class weights: F1 Score {}, Accuracy is {}\".format(f1_lr_wc, acc_lr_wc))"
   ]
  },
  {
   "cell_type": "code",
   "execution_count": 62,
   "metadata": {},
   "outputs": [
    {
     "data": {
      "application/vnd.jupyter.widget-view+json": {
       "model_id": "ed0f200c78db410dba2e4425cef0deae",
       "version_major": 2,
       "version_minor": 0
      },
      "text/plain": [
       "VBox()"
      ]
     },
     "metadata": {},
     "output_type": "display_data"
    },
    {
     "data": {
      "application/vnd.jupyter.widget-view+json": {
       "model_id": "",
       "version_major": 2,
       "version_minor": 0
      },
      "text/plain": [
       "FloatProgress(value=0.0, bar_style='info', description='Progress:', layout=Layout(height='25px', width='50%'),…"
      ]
     },
     "metadata": {},
     "output_type": "display_data"
    },
    {
     "name": "stdout",
     "output_type": "stream",
     "text": [
      "Gradient-boosted Tree model\n",
      "Initial Gradient-boosted Tree model results: F1 Score 0.843, Accuracy is 0.933\n",
      "1. Oversampling: F1 Score 0.825, Accuracy is 0.914\n",
      "2. Undersampling: F1 Score 0.819, Accuracy is 0.91"
     ]
    }
   ],
   "source": [
    "# Model Performance summary for fixing imbalanced classes\n",
    "print('Gradient-boosted Tree model')\n",
    "print(\"Initial Gradient-boosted Tree model results: F1 Score {}, Accuracy is {}\".format(f1_gbt, acc_gbt))\n",
    "print(\"1. Oversampling: F1 Score {}, Accuracy is {}\".format(f1_gbt_os, acc_gbt_os))\n",
    "print(\"2. Undersampling: F1 Score {}, Accuracy is {}\".format(f1_gbt_us, acc_gbt_us))"
   ]
  },
  {
   "cell_type": "markdown",
   "metadata": {},
   "source": [
    "### Step 4. Conduct 3-fold cross validation and tune parameters. "
   ]
  },
  {
   "cell_type": "code",
   "execution_count": 39,
   "metadata": {},
   "outputs": [
    {
     "data": {
      "application/vnd.jupyter.widget-view+json": {
       "model_id": "79ac24bdc25d42c1b534cf223a047f1a",
       "version_major": 2,
       "version_minor": 0
      },
      "text/plain": [
       "VBox()"
      ]
     },
     "metadata": {},
     "output_type": "display_data"
    },
    {
     "data": {
      "application/vnd.jupyter.widget-view+json": {
       "model_id": "",
       "version_major": 2,
       "version_minor": 0
      },
      "text/plain": [
       "FloatProgress(value=0.0, bar_style='info', description='Progress:', layout=Layout(height='25px', width='50%'),…"
      ]
     },
     "metadata": {},
     "output_type": "display_data"
    }
   ],
   "source": [
    "# tune models\n",
    "def model_tuning(pipeline,paramGrid,train = train, test = test):\n",
    "    '''\n",
    "    INPUT:\n",
    "    pipeline - machine learning pipeline\n",
    "    paramGrid - parameter grid for grid search\n",
    "    train - train data\n",
    "    test - test data\n",
    "    \n",
    "    OUTPUT:\n",
    "    Model - fitted model based on train data\n",
    "    prediction - predictions on test data\n",
    "    run time in mins\n",
    "    '''\n",
    "    start = time.time()\n",
    "    # Combining into VectorAssembler\n",
    "    crossval = CrossValidator(estimator=pipeline,\n",
    "                          estimatorParamMaps=paramGrid,\n",
    "                          evaluator=MulticlassClassificationEvaluator(metricName='f1'),\n",
    "                          numFolds=3)\n",
    "    cvmodel = crossval.fit(train)\n",
    "    #predict on test data\n",
    "    cvprediction = cvmodel.transform(test)\n",
    "    end = time.time()\n",
    "    \n",
    "    return cvmodel, cvprediction,round(round(end-start)/60,2)"
   ]
  },
  {
   "cell_type": "code",
   "execution_count": 40,
   "metadata": {},
   "outputs": [
    {
     "data": {
      "application/vnd.jupyter.widget-view+json": {
       "model_id": "88d5d696c93841c68e5627b53716643f",
       "version_major": 2,
       "version_minor": 0
      },
      "text/plain": [
       "VBox()"
      ]
     },
     "metadata": {},
     "output_type": "display_data"
    },
    {
     "data": {
      "application/vnd.jupyter.widget-view+json": {
       "model_id": "",
       "version_major": 2,
       "version_minor": 0
      },
      "text/plain": [
       "FloatProgress(value=0.0, bar_style='info', description='Progress:', layout=Layout(height='25px', width='50%'),…"
      ]
     },
     "metadata": {},
     "output_type": "display_data"
    }
   ],
   "source": [
    "# check grid search results \n",
    "def cvmodel_result(cvmodel):\n",
    "    '''\n",
    "    INPUT:\n",
    "    Model - fitted model based on train data\n",
    "    \n",
    "    OUTPUT:\n",
    "    p_df - pandas data frame of grid search results\n",
    "    '''\n",
    "    f1 = cvmodel.avgMetrics\n",
    "    p_df = pd.DataFrame({p.name: v for p, v in param.items()} for param in cvmodel.getEstimatorParamMaps())\n",
    "    p_df['f1'] = f1\n",
    "    p_df = p_df.sort_values(by ='f1',ascending =False)\n",
    "    \n",
    "    return p_df"
   ]
  },
  {
   "cell_type": "code",
   "execution_count": 41,
   "metadata": {},
   "outputs": [
    {
     "data": {
      "application/vnd.jupyter.widget-view+json": {
       "model_id": "9b72a07d77754d1b99bdb776ef148ec8",
       "version_major": 2,
       "version_minor": 0
      },
      "text/plain": [
       "VBox()"
      ]
     },
     "metadata": {},
     "output_type": "display_data"
    },
    {
     "data": {
      "application/vnd.jupyter.widget-view+json": {
       "model_id": "",
       "version_major": 2,
       "version_minor": 0
      },
      "text/plain": [
       "FloatProgress(value=0.0, bar_style='info', description='Progress:', layout=Layout(height='25px', width='50%'),…"
      ]
     },
     "metadata": {},
     "output_type": "display_data"
    }
   ],
   "source": [
    "#feature importance\n",
    "def feature_importance(cvmodel,metric):\n",
    "    '''\n",
    "    INPUT:\n",
    "    Model - fitted model based on train data\n",
    "    \n",
    "    OUTPUT:\n",
    "    f_df - pandas data frame of feature metric (importance)\n",
    "    '''\n",
    "    f_df = pd.DataFrame()\n",
    "    feature = catcols + numcols\n",
    "    f_df['feature'] = feature\n",
    "    f_df['importance'] = metric \n",
    "    f_df = f_df.sort_values(by ='importance',ascending =False)\n",
    "\n",
    "    return f_df"
   ]
  },
  {
   "cell_type": "code",
   "execution_count": 170,
   "metadata": {},
   "outputs": [
    {
     "data": {
      "application/vnd.jupyter.widget-view+json": {
       "model_id": "76e888a4d46447bc8ad0a4bbde636069",
       "version_major": 2,
       "version_minor": 0
      },
      "text/plain": [
       "VBox()"
      ]
     },
     "metadata": {},
     "output_type": "display_data"
    },
    {
     "data": {
      "application/vnd.jupyter.widget-view+json": {
       "model_id": "",
       "version_major": 2,
       "version_minor": 0
      },
      "text/plain": [
       "FloatProgress(value=0.0, bar_style='info', description='Progress:', layout=Layout(height='25px', width='50%'),…"
      ]
     },
     "metadata": {},
     "output_type": "display_data"
    }
   ],
   "source": [
    "#plot confusion matrix\n",
    "def plot_confusion_matrix(cm, \n",
    "                          classes,\n",
    "                          normalize=False,\n",
    "                          title='Confusion matrix',\n",
    "                          cmap=plt.cm.Blues):\n",
    "    \"\"\"\n",
    "    This function prints and plots the confusion matrix.\n",
    "    Normalization can be applied by setting 'normalize=True'.\n",
    "    INPUT:\n",
    "    cm - confusion matrix\n",
    "    classes - classes list\n",
    "    normalize - Normalization\n",
    "    title - plot title\n",
    "    cmap - plot color pattern\n",
    "    \n",
    "    OUTPUT:\n",
    "    print and plot the confusion matrix\n",
    "    \"\"\"\n",
    "    if normalize:\n",
    "        cm = cm.astype('float') / cm.sum(axis=1)[:, np.newaxis]\n",
    "        print(\"Normalized confusion matrix\")\n",
    "    else:\n",
    "        print('Confusion matrix, without normalization')\n",
    "\n",
    "    print(cm)\n",
    "\n",
    "    plt.imshow(cm, interpolation='nearest', cmap=cmap)\n",
    "    plt.title(title)\n",
    "    plt.colorbar()\n",
    "    tick_marks = np.arange(len(classes))\n",
    "    plt.xticks(tick_marks, classes)\n",
    "    plt.yticks(tick_marks, classes)\n",
    "\n",
    "    fmt = '.2f' if normalize else 'd'\n",
    "    thresh = cm.max() / 2.\n",
    "    for i, j in itertools.product(range(cm.shape[0]), range(cm.shape[1])):\n",
    "        plt.text(j, i, format(cm[i, j], fmt),\n",
    "                 horizontalalignment=\"center\",\n",
    "                 color=\"white\" if cm[i, j] > thresh else \"black\")\n",
    "\n",
    "    #plt.tight_layout()\n",
    "    plt.ylabel('True label')\n",
    "    plt.xlabel('Predicted label')"
   ]
  },
  {
   "cell_type": "markdown",
   "metadata": {},
   "source": [
    "#### Logistic Regression Tuning\n",
    " - maxIter (maximum number of iterations, default=100): [10, 30]\n",
    " - threshold (Threshold in binary classification prediction, default = 0.5):[0.4, 0.5]"
   ]
  },
  {
   "cell_type": "code",
   "execution_count": 56,
   "metadata": {},
   "outputs": [
    {
     "data": {
      "application/vnd.jupyter.widget-view+json": {
       "model_id": "597ee6f1caad466abd68ec9017197cd5",
       "version_major": 2,
       "version_minor": 0
      },
      "text/plain": [
       "VBox()"
      ]
     },
     "metadata": {},
     "output_type": "display_data"
    },
    {
     "data": {
      "application/vnd.jupyter.widget-view+json": {
       "model_id": "",
       "version_major": 2,
       "version_minor": 0
      },
      "text/plain": [
       "FloatProgress(value=0.0, bar_style='info', description='Progress:', layout=Layout(height='25px', width='50%'),…"
      ]
     },
     "metadata": {},
     "output_type": "display_data"
    },
    {
     "name": "stdout",
     "output_type": "stream",
     "text": [
      "0.40813926905070297"
     ]
    }
   ],
   "source": [
    "# Extract the summary from the returned LogisticRegressionModel instance trained (undersampling)\n",
    "trainingSummary = model_lr.stages[-1].summary\n",
    "# check the model threshold to maximize F-Measure\n",
    "fMeasure = trainingSummary.fMeasureByThreshold\n",
    "maxFMeasure = fMeasure.groupBy().max('F-Measure').select('max(F-Measure)').head()\n",
    "bestThreshold = fMeasure.where(fMeasure['F-Measure'] == maxFMeasure['max(F-Measure)']) \\\n",
    "    .select('threshold').head()['threshold']\n",
    "bestThreshold"
   ]
  },
  {
   "cell_type": "code",
   "execution_count": 57,
   "metadata": {},
   "outputs": [
    {
     "data": {
      "application/vnd.jupyter.widget-view+json": {
       "model_id": "527fc4257696481ba98c995021ec6e8d",
       "version_major": 2,
       "version_minor": 0
      },
      "text/plain": [
       "VBox()"
      ]
     },
     "metadata": {},
     "output_type": "display_data"
    },
    {
     "data": {
      "application/vnd.jupyter.widget-view+json": {
       "model_id": "",
       "version_major": 2,
       "version_minor": 0
      },
      "text/plain": [
       "FloatProgress(value=0.0, bar_style='info', description='Progress:', layout=Layout(height='25px', width='50%'),…"
      ]
     },
     "metadata": {},
     "output_type": "display_data"
    },
    {
     "name": "stderr",
     "output_type": "stream",
     "text": [
      "Exception in thread cell_monitor-53:\n",
      "Traceback (most recent call last):\n",
      "  File \"/opt/conda/lib/python3.7/threading.py\", line 926, in _bootstrap_inner\n",
      "    self.run()\n",
      "  File \"/opt/conda/lib/python3.7/threading.py\", line 870, in run\n",
      "    self._target(*self._args, **self._kwargs)\n",
      "  File \"/opt/conda/lib/python3.7/site-packages/awseditorssparkmonitoringwidget-1.0-py3.7.egg/awseditorssparkmonitoringwidget/cellmonitor.py\", line 178, in cell_monitor\n",
      "    job_binned_stages[job_id][stage_id] = all_stages[stage_id]\n",
      "KeyError: 8864\n",
      "\n"
     ]
    }
   ],
   "source": [
    "# parameter grid: maxIter,threshold.\n",
    "paramGrid_lr = ParamGridBuilder() \\\n",
    "    .addGrid(model_lr.stages[-1].maxIter,[10, 30]) \\\n",
    "    .addGrid(model_lr.stages[-1].threshold,[0.4,0.5]) \\\n",
    "    .build()"
   ]
  },
  {
   "cell_type": "code",
   "execution_count": 58,
   "metadata": {
    "scrolled": true
   },
   "outputs": [
    {
     "data": {
      "application/vnd.jupyter.widget-view+json": {
       "model_id": "ba5fc88aa11749be9d6888d170c624f9",
       "version_major": 2,
       "version_minor": 0
      },
      "text/plain": [
       "VBox()"
      ]
     },
     "metadata": {},
     "output_type": "display_data"
    },
    {
     "data": {
      "application/vnd.jupyter.widget-view+json": {
       "model_id": "",
       "version_major": 2,
       "version_minor": 0
      },
      "text/plain": [
       "FloatProgress(value=0.0, bar_style='info', description='Progress:', layout=Layout(height='25px', width='50%'),…"
      ]
     },
     "metadata": {},
     "output_type": "display_data"
    },
    {
     "name": "stderr",
     "output_type": "stream",
     "text": [
      "Exception in thread cell_monitor-54:\n",
      "Traceback (most recent call last):\n",
      "  File \"/opt/conda/lib/python3.7/threading.py\", line 926, in _bootstrap_inner\n",
      "    self.run()\n",
      "  File \"/opt/conda/lib/python3.7/threading.py\", line 870, in run\n",
      "    self._target(*self._args, **self._kwargs)\n",
      "  File \"/opt/conda/lib/python3.7/site-packages/awseditorssparkmonitoringwidget-1.0-py3.7.egg/awseditorssparkmonitoringwidget/cellmonitor.py\", line 178, in cell_monitor\n",
      "    job_binned_stages[job_id][stage_id] = all_stages[stage_id]\n",
      "KeyError: 8897\n",
      "\n"
     ]
    },
    {
     "name": "stdout",
     "output_type": "stream",
     "text": [
      "Logistic Regression Model Tuning time (mins):  12.95\n",
      "Summary Stats\n",
      "Accuracy = 0.9206088643486047\n",
      "Precision = 0.8367346938775511\n",
      "Recall = 0.817363344051447\n",
      "F1 Score = 0.8269355888093689"
     ]
    }
   ],
   "source": [
    "# tune the model (apply undersampling)\n",
    "cvmodel_lr, cvprediction_lr, cvtime_lr = model_tuning(pipeline_lr,paramGrid_lr,train, test)\n",
    "print('Logistic Regression Model Tuning time (mins): ',cvtime_lr)\n",
    "cvacc_lr, cvf1_lr = evaluation(cvprediction_lr)\n",
    "# F1 score on test data even decrease compared to the initial model. (overfitting on training data)"
   ]
  },
  {
   "cell_type": "code",
   "execution_count": 59,
   "metadata": {},
   "outputs": [
    {
     "data": {
      "application/vnd.jupyter.widget-view+json": {
       "model_id": "e12f836b5ebe4f3bb83292b754630ad1",
       "version_major": 2,
       "version_minor": 0
      },
      "text/plain": [
       "VBox()"
      ]
     },
     "metadata": {},
     "output_type": "display_data"
    },
    {
     "data": {
      "application/vnd.jupyter.widget-view+json": {
       "model_id": "",
       "version_major": 2,
       "version_minor": 0
      },
      "text/plain": [
       "FloatProgress(value=0.0, bar_style='info', description='Progress:', layout=Layout(height='25px', width='50%'),…"
      ]
     },
     "metadata": {},
     "output_type": "display_data"
    },
    {
     "name": "stdout",
     "output_type": "stream",
     "text": [
      "   maxIter  threshold        f1\n",
      "0       10        0.4  0.919546\n",
      "2       30        0.4  0.918898\n",
      "1       10        0.5  0.918354\n",
      "3       30        0.5  0.918292"
     ]
    }
   ],
   "source": [
    "# training model results\n",
    "cvmodel_result(cvmodel_lr)"
   ]
  },
  {
   "cell_type": "code",
   "execution_count": 60,
   "metadata": {},
   "outputs": [
    {
     "data": {
      "application/vnd.jupyter.widget-view+json": {
       "model_id": "6b17d9dc20b745deb0f137fecd19ec0a",
       "version_major": 2,
       "version_minor": 0
      },
      "text/plain": [
       "VBox()"
      ]
     },
     "metadata": {},
     "output_type": "display_data"
    },
    {
     "data": {
      "application/vnd.jupyter.widget-view+json": {
       "model_id": "",
       "version_major": 2,
       "version_minor": 0
      },
      "text/plain": [
       "FloatProgress(value=0.0, bar_style='info', description='Progress:', layout=Layout(height='25px', width='50%'),…"
      ]
     },
     "metadata": {},
     "output_type": "display_data"
    },
    {
     "name": "stderr",
     "output_type": "stream",
     "text": [
      "Exception in thread cell_monitor-56:\n",
      "Traceback (most recent call last):\n",
      "  File \"/opt/conda/lib/python3.7/threading.py\", line 926, in _bootstrap_inner\n",
      "    self.run()\n",
      "  File \"/opt/conda/lib/python3.7/threading.py\", line 870, in run\n",
      "    self._target(*self._args, **self._kwargs)\n",
      "  File \"/opt/conda/lib/python3.7/site-packages/awseditorssparkmonitoringwidget-1.0-py3.7.egg/awseditorssparkmonitoringwidget/cellmonitor.py\", line 178, in cell_monitor\n",
      "    job_binned_stages[job_id][stage_id] = all_stages[stage_id]\n",
      "KeyError: 10695\n",
      "\n"
     ]
    }
   ],
   "source": [
    "# Coefficients\n",
    "lr_imp = feature_importance(cvmodel_lr,cvmodel_lr.bestModel.stages[-1].coefficients)\n",
    "lr_imp['odds'] = np.exp(lr_imp['importance'])\n",
    "lr_imp.plot(kind ='barh',x ='feature',y='importance',color ='navy',legend=None,\\\n",
    "            title = 'Logistic Regression Coefficients (Full 12GB Dataset)',figsize = (8,5)).invert_yaxis();"
   ]
  },
  {
   "cell_type": "code",
   "execution_count": 61,
   "metadata": {},
   "outputs": [
    {
     "data": {
      "application/vnd.jupyter.widget-view+json": {
       "model_id": "",
       "version_major": 2,
       "version_minor": 0
      },
      "text/plain": [
       "FloatProgress(value=0.0, bar_style='info', description='Progress:', layout=Layout(height='25px', width='50%'),…"
      ]
     },
     "metadata": {},
     "output_type": "display_data"
    },
    {
     "data": {
      "image/png": "[encoded data removed]",
      "text/plain": [
       "<IPython.core.display.Image object>"
      ]
     },
     "metadata": {},
     "output_type": "display_data"
    }
   ],
   "source": [
    "%matplot plt"
   ]
  },
  {
   "cell_type": "code",
   "execution_count": null,
   "metadata": {},
   "outputs": [],
   "source": [
    "#plot confusion_matrix class names\n",
    "class_names = cvprediction_gbt.select(\"label\").groupBy(\"label\")\\\n",
    "                        .count().sort('count', ascending=False).toPandas()\n",
    "class_names = class_names[\"label\"].values.tolist()\n",
    "class_names"
   ]
  },
  {
   "cell_type": "code",
   "execution_count": 165,
   "metadata": {},
   "outputs": [
    {
     "data": {
      "application/vnd.jupyter.widget-view+json": {
       "model_id": "f76c82edd8524b35bb2d912e8d6a94bf",
       "version_major": 2,
       "version_minor": 0
      },
      "text/plain": [
       "VBox()"
      ]
     },
     "metadata": {},
     "output_type": "display_data"
    },
    {
     "data": {
      "application/vnd.jupyter.widget-view+json": {
       "model_id": "",
       "version_major": 2,
       "version_minor": 0
      },
      "text/plain": [
       "FloatProgress(value=0.0, bar_style='info', description='Progress:', layout=Layout(height='25px', width='50%'),…"
      ]
     },
     "metadata": {},
     "output_type": "display_data"
    },
    {
     "name": "stdout",
     "output_type": "stream",
     "text": [
      "array([[4898,  248],\n",
      "       [ 284, 1271]])"
     ]
    }
   ],
   "source": [
    "#plot confusion_matrix\n",
    "y_truelr = cvprediction_lr.select(\"label\").withColumn(\"label\",col(\"label\").cast(DoubleType()))\n",
    "y_truelr = y_truelr.toPandas()\n",
    "y_predlr = cvprediction_lr.select(\"prediction\")\n",
    "y_predlr = y_predlr.toPandas()\n",
    "\n",
    "cnf_matrix_lr = confusion_matrix(y_truelr, y_predlr)\n",
    "cnf_matrix_lr"
   ]
  },
  {
   "cell_type": "code",
   "execution_count": 166,
   "metadata": {},
   "outputs": [
    {
     "data": {
      "application/vnd.jupyter.widget-view+json": {
       "model_id": "bf0b8aa3ff0e4776808957b20110e068",
       "version_major": 2,
       "version_minor": 0
      },
      "text/plain": [
       "VBox()"
      ]
     },
     "metadata": {},
     "output_type": "display_data"
    },
    {
     "data": {
      "application/vnd.jupyter.widget-view+json": {
       "model_id": "",
       "version_major": 2,
       "version_minor": 0
      },
      "text/plain": [
       "FloatProgress(value=0.0, bar_style='info', description='Progress:', layout=Layout(height='25px', width='50%'),…"
      ]
     },
     "metadata": {},
     "output_type": "display_data"
    },
    {
     "name": "stdout",
     "output_type": "stream",
     "text": [
      "Confusion matrix, without normalization\n",
      "[[4898  248]\n",
      " [ 284 1271]]"
     ]
    }
   ],
   "source": [
    "# Plot non-normalized confusion matrix\n",
    "plt.figure(figsize=(8,5))\n",
    "cm_lr = plot_confusion_matrix(cnf_matrix_lr, classes=class_names,\n",
    "                      title='Logistic Regression Confusion matrix\\nwithout normalization')"
   ]
  },
  {
   "cell_type": "code",
   "execution_count": 167,
   "metadata": {},
   "outputs": [
    {
     "data": {
      "application/vnd.jupyter.widget-view+json": {
       "model_id": "",
       "version_major": 2,
       "version_minor": 0
      },
      "text/plain": [
       "FloatProgress(value=0.0, bar_style='info', description='Progress:', layout=Layout(height='25px', width='50%'),…"
      ]
     },
     "metadata": {},
     "output_type": "display_data"
    },
    {
     "data": {
      "image/png": "[encoded data removed]",
      "text/plain": [
       "<IPython.core.display.Image object>"
      ]
     },
     "metadata": {},
     "output_type": "display_data"
    }
   ],
   "source": [
    "%matplot plt"
   ]
  },
  {
   "cell_type": "code",
   "execution_count": 168,
   "metadata": {},
   "outputs": [
    {
     "data": {
      "application/vnd.jupyter.widget-view+json": {
       "model_id": "99442044113048c5a68a6806e50e279c",
       "version_major": 2,
       "version_minor": 0
      },
      "text/plain": [
       "VBox()"
      ]
     },
     "metadata": {},
     "output_type": "display_data"
    },
    {
     "data": {
      "application/vnd.jupyter.widget-view+json": {
       "model_id": "",
       "version_major": 2,
       "version_minor": 0
      },
      "text/plain": [
       "FloatProgress(value=0.0, bar_style='info', description='Progress:', layout=Layout(height='25px', width='50%'),…"
      ]
     },
     "metadata": {},
     "output_type": "display_data"
    },
    {
     "name": "stdout",
     "output_type": "stream",
     "text": [
      "Normalized confusion matrix\n",
      "[[0.95180723 0.04819277]\n",
      " [0.18263666 0.81736334]]"
     ]
    }
   ],
   "source": [
    "# Plot normalized confusion matrix\n",
    "plt.figure(figsize=(8,5))\n",
    "cmn_lr =plot_confusion_matrix(cnf_matrix_lr, classes=class_names, normalize=True,\n",
    "                      title='Normalized Logistic Regression Confusion matrix')"
   ]
  },
  {
   "cell_type": "code",
   "execution_count": 169,
   "metadata": {},
   "outputs": [
    {
     "data": {
      "application/vnd.jupyter.widget-view+json": {
       "model_id": "",
       "version_major": 2,
       "version_minor": 0
      },
      "text/plain": [
       "FloatProgress(value=0.0, bar_style='info', description='Progress:', layout=Layout(height='25px', width='50%'),…"
      ]
     },
     "metadata": {},
     "output_type": "display_data"
    },
    {
     "data": {
      "image/png": "[encoded data removed]",
      "text/plain": [
       "<IPython.core.display.Image object>"
      ]
     },
     "metadata": {},
     "output_type": "display_data"
    }
   ],
   "source": [
    "%matplot plt"
   ]
  },
  {
   "cell_type": "markdown",
   "metadata": {},
   "source": [
    "#### Gradient-boosted Tree Tuning\n",
    " - maxDepth (Maximum depth of the tree, default=5): [5, 10]\n",
    " - minInstancesPerNode (Minimum number of instances each child must have after split, default=1): [1,3]"
   ]
  },
  {
   "cell_type": "code",
   "execution_count": 45,
   "metadata": {},
   "outputs": [
    {
     "data": {
      "application/vnd.jupyter.widget-view+json": {
       "model_id": "6154c983504042e39cfd453a17bf3a70",
       "version_major": 2,
       "version_minor": 0
      },
      "text/plain": [
       "VBox()"
      ]
     },
     "metadata": {},
     "output_type": "display_data"
    },
    {
     "data": {
      "application/vnd.jupyter.widget-view+json": {
       "model_id": "",
       "version_major": 2,
       "version_minor": 0
      },
      "text/plain": [
       "FloatProgress(value=0.0, bar_style='info', description='Progress:', layout=Layout(height='25px', width='50%'),…"
      ]
     },
     "metadata": {},
     "output_type": "display_data"
    }
   ],
   "source": [
    "# parameter grid\n",
    "paramGrid_gbt = ParamGridBuilder() \\\n",
    "    .addGrid(model_gbt.stages[-1].maxDepth, [5, 10]) \\\n",
    "    .addGrid(model_gbt.stages[-1].minInstancesPerNode,[1,3]) \\\n",
    "    .build()"
   ]
  },
  {
   "cell_type": "code",
   "execution_count": 46,
   "metadata": {},
   "outputs": [
    {
     "data": {
      "application/vnd.jupyter.widget-view+json": {
       "model_id": "2cd3ba8dc7d44c11a1dc6098df4c44b3",
       "version_major": 2,
       "version_minor": 0
      },
      "text/plain": [
       "VBox()"
      ]
     },
     "metadata": {},
     "output_type": "display_data"
    },
    {
     "data": {
      "application/vnd.jupyter.widget-view+json": {
       "model_id": "",
       "version_major": 2,
       "version_minor": 0
      },
      "text/plain": [
       "FloatProgress(value=0.0, bar_style='info', description='Progress:', layout=Layout(height='25px', width='50%'),…"
      ]
     },
     "metadata": {},
     "output_type": "display_data"
    },
    {
     "name": "stderr",
     "output_type": "stream",
     "text": [
      "Exception in thread cell_monitor-45:\n",
      "Traceback (most recent call last):\n",
      "  File \"/opt/conda/lib/python3.7/threading.py\", line 926, in _bootstrap_inner\n",
      "    self.run()\n",
      "  File \"/opt/conda/lib/python3.7/threading.py\", line 870, in run\n",
      "    self._target(*self._args, **self._kwargs)\n",
      "  File \"/opt/conda/lib/python3.7/site-packages/awseditorssparkmonitoringwidget-1.0-py3.7.egg/awseditorssparkmonitoringwidget/cellmonitor.py\", line 178, in cell_monitor\n",
      "    job_binned_stages[job_id][stage_id] = all_stages[stage_id]\n",
      "KeyError: 3696\n",
      "\n"
     ]
    },
    {
     "name": "stdout",
     "output_type": "stream",
     "text": [
      "Gradient-boosted Tree Model Tuning time (mins):  18.77\n",
      "Summary Stats\n",
      "Accuracy = 0.9700044769437397\n",
      "Precision = 0.9568151147098516\n",
      "Recall = 0.9118971061093247\n",
      "F1 Score = 0.9338162660520252"
     ]
    }
   ],
   "source": [
    "# tune the model\n",
    "cvmodel_gbt, cvprediction_gbt, cvtime_gbt = model_tuning(pipeline_gbt,paramGrid_gbt,train, test)\n",
    "print('Gradient-boosted Tree Model Tuning time (mins): ',cvtime_gbt)\n",
    "cvacc_gbt, cvf1_gbt = evaluation(cvprediction_gbt)"
   ]
  },
  {
   "cell_type": "code",
   "execution_count": 47,
   "metadata": {},
   "outputs": [
    {
     "data": {
      "application/vnd.jupyter.widget-view+json": {
       "model_id": "e0c4a747603942caa0a20f2f77ef9904",
       "version_major": 2,
       "version_minor": 0
      },
      "text/plain": [
       "VBox()"
      ]
     },
     "metadata": {},
     "output_type": "display_data"
    },
    {
     "data": {
      "application/vnd.jupyter.widget-view+json": {
       "model_id": "",
       "version_major": 2,
       "version_minor": 0
      },
      "text/plain": [
       "FloatProgress(value=0.0, bar_style='info', description='Progress:', layout=Layout(height='25px', width='50%'),…"
      ]
     },
     "metadata": {},
     "output_type": "display_data"
    },
    {
     "name": "stdout",
     "output_type": "stream",
     "text": [
      "   maxDepth  minInstancesPerNode        f1\n",
      "3        10                    3  0.930644\n",
      "2        10                    1  0.925611\n",
      "0         5                    1  0.925429\n",
      "1         5                    3  0.925377"
     ]
    }
   ],
   "source": [
    "# training model results\n",
    "cvmodel_result(cvmodel_gbt)"
   ]
  },
  {
   "cell_type": "code",
   "execution_count": 52,
   "metadata": {},
   "outputs": [
    {
     "data": {
      "application/vnd.jupyter.widget-view+json": {
       "model_id": "5d86750cce7e4a2fb18e841f3fe31bed",
       "version_major": 2,
       "version_minor": 0
      },
      "text/plain": [
       "VBox()"
      ]
     },
     "metadata": {},
     "output_type": "display_data"
    },
    {
     "data": {
      "application/vnd.jupyter.widget-view+json": {
       "model_id": "",
       "version_major": 2,
       "version_minor": 0
      },
      "text/plain": [
       "FloatProgress(value=0.0, bar_style='info', description='Progress:', layout=Layout(height='25px', width='50%'),…"
      ]
     },
     "metadata": {},
     "output_type": "display_data"
    }
   ],
   "source": [
    "#show feature importances\n",
    "feature_importance(cvmodel_gbt,cvmodel_gbt.bestModel.stages[-1].featureImportances) \\\n",
    ".plot(kind ='barh',x ='feature',y='importance',color ='navy',legend=None,\\\n",
    "      title = 'Gradient-boosted Tree Feature Importance (Full 12GB Dataset)',figsize = (8,5)).invert_yaxis();"
   ]
  },
  {
   "cell_type": "code",
   "execution_count": 53,
   "metadata": {},
   "outputs": [
    {
     "data": {
      "application/vnd.jupyter.widget-view+json": {
       "model_id": "",
       "version_major": 2,
       "version_minor": 0
      },
      "text/plain": [
       "FloatProgress(value=0.0, bar_style='info', description='Progress:', layout=Layout(height='25px', width='50%'),…"
      ]
     },
     "metadata": {},
     "output_type": "display_data"
    },
    {
     "data": {
      "image/png": "[encoded data removed]",
      "text/plain": [
       "<IPython.core.display.Image object>"
      ]
     },
     "metadata": {},
     "output_type": "display_data"
    }
   ],
   "source": [
    "%matplot plt"
   ]
  },
  {
   "cell_type": "code",
   "execution_count": 135,
   "metadata": {},
   "outputs": [
    {
     "data": {
      "application/vnd.jupyter.widget-view+json": {
       "model_id": "2c8b5155de164186aa43be1b6b666bbc",
       "version_major": 2,
       "version_minor": 0
      },
      "text/plain": [
       "VBox()"
      ]
     },
     "metadata": {},
     "output_type": "display_data"
    },
    {
     "data": {
      "application/vnd.jupyter.widget-view+json": {
       "model_id": "",
       "version_major": 2,
       "version_minor": 0
      },
      "text/plain": [
       "FloatProgress(value=0.0, bar_style='info', description='Progress:', layout=Layout(height='25px', width='50%'),…"
      ]
     },
     "metadata": {},
     "output_type": "display_data"
    },
    {
     "name": "stdout",
     "output_type": "stream",
     "text": [
      "array([[5082,   64],\n",
      "       [ 137, 1418]])"
     ]
    }
   ],
   "source": [
    "#plot confusion_matrix\n",
    "y_truegbt = cvprediction_gbt.select(\"label\").withColumn(\"label\",col(\"label\").cast(DoubleType()))\n",
    "y_truegbt = y_truegbt.toPandas()\n",
    "y_predgbt = cvprediction_gbt.select(\"prediction\")\n",
    "y_predgbt = y_predgbt.toPandas()\n",
    "\n",
    "cnf_matrix = confusion_matrix(y_truegbt, y_predgbt)\n",
    "cnf_matrix"
   ]
  },
  {
   "cell_type": "code",
   "execution_count": 156,
   "metadata": {},
   "outputs": [
    {
     "data": {
      "application/vnd.jupyter.widget-view+json": {
       "model_id": "9c53a0099a8e4d49a5cdc63847de18d7",
       "version_major": 2,
       "version_minor": 0
      },
      "text/plain": [
       "VBox()"
      ]
     },
     "metadata": {},
     "output_type": "display_data"
    },
    {
     "data": {
      "application/vnd.jupyter.widget-view+json": {
       "model_id": "",
       "version_major": 2,
       "version_minor": 0
      },
      "text/plain": [
       "FloatProgress(value=0.0, bar_style='info', description='Progress:', layout=Layout(height='25px', width='50%'),…"
      ]
     },
     "metadata": {},
     "output_type": "display_data"
    },
    {
     "name": "stdout",
     "output_type": "stream",
     "text": [
      "Confusion matrix, without normalization\n",
      "[[5082   64]\n",
      " [ 137 1418]]"
     ]
    }
   ],
   "source": [
    "# Plot non-normalized confusion matrix\n",
    "plt.figure(figsize=(8,5))\n",
    "cm_gbt = plot_confusion_matrix(cnf_matrix, classes=class_names,\n",
    "                      title='Gradient-boosted Tree Confusion matrix\\nwithout normalization')"
   ]
  },
  {
   "cell_type": "code",
   "execution_count": 149,
   "metadata": {},
   "outputs": [
    {
     "data": {
      "application/vnd.jupyter.widget-view+json": {
       "model_id": "",
       "version_major": 2,
       "version_minor": 0
      },
      "text/plain": [
       "FloatProgress(value=0.0, bar_style='info', description='Progress:', layout=Layout(height='25px', width='50%'),…"
      ]
     },
     "metadata": {},
     "output_type": "display_data"
    },
    {
     "data": {
      "image/png": "[encoded data removed]",
      "text/plain": [
       "<IPython.core.display.Image object>"
      ]
     },
     "metadata": {},
     "output_type": "display_data"
    }
   ],
   "source": [
    "%matplot plt"
   ]
  },
  {
   "cell_type": "code",
   "execution_count": 163,
   "metadata": {},
   "outputs": [
    {
     "data": {
      "application/vnd.jupyter.widget-view+json": {
       "model_id": "7547824c5e504219857d0fe271951ff7",
       "version_major": 2,
       "version_minor": 0
      },
      "text/plain": [
       "VBox()"
      ]
     },
     "metadata": {},
     "output_type": "display_data"
    },
    {
     "data": {
      "application/vnd.jupyter.widget-view+json": {
       "model_id": "",
       "version_major": 2,
       "version_minor": 0
      },
      "text/plain": [
       "FloatProgress(value=0.0, bar_style='info', description='Progress:', layout=Layout(height='25px', width='50%'),…"
      ]
     },
     "metadata": {},
     "output_type": "display_data"
    },
    {
     "name": "stdout",
     "output_type": "stream",
     "text": [
      "Normalized confusion matrix\n",
      "[[0.98756316 0.01243684]\n",
      " [0.08810289 0.91189711]]"
     ]
    }
   ],
   "source": [
    "# Plot normalized confusion matrix\n",
    "plt.figure(figsize=(8,5))\n",
    "cmn_gbt =plot_confusion_matrix(cnf_matrix, classes=class_names, normalize=True,\n",
    "                      title='Normalized Gradient-boosted Tree Confusion matrix')"
   ]
  },
  {
   "cell_type": "code",
   "execution_count": 164,
   "metadata": {},
   "outputs": [
    {
     "data": {
      "application/vnd.jupyter.widget-view+json": {
       "model_id": "",
       "version_major": 2,
       "version_minor": 0
      },
      "text/plain": [
       "FloatProgress(value=0.0, bar_style='info', description='Progress:', layout=Layout(height='25px', width='50%'),…"
      ]
     },
     "metadata": {},
     "output_type": "display_data"
    },
    {
     "data": {
      "image/png": "[encoded data removed]",
      "text/plain": [
       "<IPython.core.display.Image object>"
      ]
     },
     "metadata": {},
     "output_type": "display_data"
    }
   ],
   "source": [
    "%matplot plt"
   ]
  },
  {
   "cell_type": "markdown",
   "metadata": {},
   "source": [
    "#### Random Forest Tuning\n",
    " - minInstancesPerNode (Minimum number of instances each child must have after split, default=1): [1,3]\n",
    " - numTrees (Number of trees in the random forest, default =20):[20,30]"
   ]
  },
  {
   "cell_type": "code",
   "execution_count": null,
   "metadata": {},
   "outputs": [],
   "source": [
    "# parameter grid\n",
    "paramGrid_rf = ParamGridBuilder() \\\n",
    "    .addGrid(model_rf.stages[-1].minInstancesPerNode,[1,3]) \\\n",
    "    .addGrid(model_rf.stages[-1].numTrees, [20, 30]) \\\n",
    "    .build()\n",
    "    \n",
    "# tune the model\n",
    "cvmodel_rf, cvprediction_rf, cvtime_rf = model_tuning(pipeline_rf,paramGrid_rf,train, test)\n",
    "print('Random Forest Model Tuning time (mins): ',cvtime_rf)\n",
    "cvacc_rf, cvf1_rf = evaluation(cvprediction_rf)    \n",
    "\n",
    "# model results\n",
    "print(cvmodel_result(cvmodel_rf))\n",
    "\n",
    "#show feature importances\n",
    "feature_importance(cvmodel_rf,cvmodel_rf.bestModel.stages[-1].featureImportances) \\\n",
    ".plot(kind ='bar',x ='feature',y='importance',color ='navy', \\\n",
    "      title = 'Random Forest Feature Importance');"
   ]
  },
  {
   "cell_type": "markdown",
   "metadata": {},
   "source": [
    "#### Model Tuning Performance Summary"
   ]
  },
  {
   "cell_type": "code",
   "execution_count": 63,
   "metadata": {},
   "outputs": [
    {
     "data": {
      "application/vnd.jupyter.widget-view+json": {
       "model_id": "c256fd418b724583ab624477bbc7997c",
       "version_major": 2,
       "version_minor": 0
      },
      "text/plain": [
       "VBox()"
      ]
     },
     "metadata": {},
     "output_type": "display_data"
    },
    {
     "data": {
      "application/vnd.jupyter.widget-view+json": {
       "model_id": "",
       "version_major": 2,
       "version_minor": 0
      },
      "text/plain": [
       "FloatProgress(value=0.0, bar_style='info', description='Progress:', layout=Layout(height='25px', width='50%'),…"
      ]
     },
     "metadata": {},
     "output_type": "display_data"
    },
    {
     "name": "stdout",
     "output_type": "stream",
     "text": [
      "Model Tuning Performance Summary\n",
      "\n",
      "Logistic Regression Base Model results: F1 Score 0.815, Accuracy is 0.92\n",
      "Logistic Regression Model Tuning results: F1 Score 0.827, Accuracy is 0.921\n",
      "Gradient-boosted Tree Base Model results: F1 Score 0.843, Accuracy is 0.933\n",
      "Gradient-boosted Tree Model Tuning results: F1 Score 0.934, Accuracy is 0.97"
     ]
    }
   ],
   "source": [
    "# Performance summary for Model Tuning\n",
    "print('Model Tuning Performance Summary\\n')\n",
    "print(\"Logistic Regression Base Model results: F1 Score {}, Accuracy is {}\".format(f1_lr, acc_lr))\n",
    "print(\"Logistic Regression Model Tuning results: F1 Score {}, Accuracy is {}\".format(cvf1_lr, cvacc_lr))\n",
    "print(\"Gradient-boosted Tree Base Model results: F1 Score {}, Accuracy is {}\".format(f1_gbt, acc_gbt))\n",
    "print(\"Gradient-boosted Tree Model Tuning results: F1 Score {}, Accuracy is {}\".format(cvf1_gbt, cvacc_gbt))"
   ]
  }
 ],
 "metadata": {
  "kernelspec": {
   "display_name": "PySpark",
   "language": "",
   "name": "pysparkkernel"
  },
  "language_info": {
   "codemirror_mode": {
    "name": "python",
    "version": 2
   },
   "mimetype": "text/x-python",
   "name": "pyspark",
   "pygments_lexer": "python2"
  }
 },
 "nbformat": 4,
 "nbformat_minor": 4
}
